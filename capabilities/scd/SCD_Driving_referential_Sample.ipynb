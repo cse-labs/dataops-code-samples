{
 "cells": [
  {
   "cell_type": "markdown",
   "metadata": {
    "application/vnd.databricks.v1+cell": {
     "cellMetadata": {},
     "inputWidgets": {},
     "nuid": "d510364f-0fba-4870-9d44-96d9cc0d81f9",
     "showTitle": false,
     "title": ""
    }
   },
   "source": [
    "#### SCD Type 2"
   ]
  },
  {
   "cell_type": "markdown",
   "metadata": {
    "application/vnd.databricks.v1+cell": {
     "cellMetadata": {},
     "inputWidgets": {},
     "nuid": "fea7c682-7215-436b-a3b9-91053bdf02ef",
     "showTitle": false,
     "title": ""
    }
   },
   "source": [
    "#### Create a Dbutils widget to capture configuration"
   ]
  },
  {
   "cell_type": "code",
   "execution_count": 0,
   "metadata": {
    "application/vnd.databricks.v1+cell": {
     "cellMetadata": {
      "byteLimit": 2048000,
      "rowLimit": 10000
     },
     "inputWidgets": {},
     "nuid": "104a5866-f958-4767-b64b-a4b0a156290a",
     "showTitle": false,
     "title": ""
    }
   },
   "outputs": [],
   "source": [
    "dbutils.widgets.removeAll()"
   ]
  },
  {
   "cell_type": "code",
   "execution_count": 0,
   "metadata": {
    "application/vnd.databricks.v1+cell": {
     "cellMetadata": {
      "byteLimit": 2048000,
      "rowLimit": 10000
     },
     "inputWidgets": {},
     "nuid": "406b6a25-f36c-4843-8b50-b77458854c78",
     "showTitle": false,
     "title": ""
    }
   },
   "outputs": [],
   "source": [
    "####Create dbutil widgets to connect to storage account"
   ]
  },
  {
   "cell_type": "markdown",
   "metadata": {
    "application/vnd.databricks.v1+cell": {
     "cellMetadata": {},
     "inputWidgets": {},
     "nuid": "b056cda6-1eaf-4582-bca9-6ae74ef38cba",
     "showTitle": false,
     "title": ""
    }
   },
   "source": [
    "#### Setup Configuration"
   ]
  },
  {
   "cell_type": "code",
   "execution_count": 0,
   "metadata": {
    "application/vnd.databricks.v1+cell": {
     "cellMetadata": {},
     "inputWidgets": {},
     "nuid": "221b1e8f-7cc0-467d-8e22-5e3251b01db2",
     "showTitle": false,
     "title": ""
    }
   },
   "outputs": [],
   "source": [
    "#### Setup Configuration to Connect to Storage Account"
   ]
  },
  {
   "cell_type": "markdown",
   "metadata": {
    "application/vnd.databricks.v1+cell": {
     "cellMetadata": {},
     "inputWidgets": {},
     "nuid": "9575a2e0-009d-4eb3-b679-ab8123b967e5",
     "showTitle": false,
     "title": ""
    }
   },
   "source": [
    "#### Prepare the 3 tables - Employee, Employee_Address & Employee_Information"
   ]
  },
  {
   "cell_type": "code",
   "execution_count": 0,
   "metadata": {
    "application/vnd.databricks.v1+cell": {
     "cellMetadata": {
      "byteLimit": 2048000,
      "rowLimit": 10000
     },
     "inputWidgets": {},
     "nuid": "b2f4e7c2-510f-4b11-97d2-9f56b0b74533",
     "showTitle": false,
     "title": ""
    }
   },
   "outputs": [],
   "source": [
    "#This cell is creating a employee (driving), employee_address (referential table) and employee_information(referential table) delta tables\n",
    "from pyspark.sql.functions import lit\n",
    "from pyspark.sql.functions import concat, hash\n",
    "from pyspark.sql.functions import current_timestamp\n",
    "from pyspark.sql.types import StructType,StructField, StringType, IntegerType, DateType, BooleanType\n",
    "import datetime\n",
    "\n",
    "employee_schema = StructType([ \\\n",
    "    StructField(\"employee_id\",IntegerType(),True), \\\n",
    "    StructField(\"first_name\",StringType(),True), \\\n",
    "    StructField(\"last_name\",StringType(),True), \\\n",
    "    StructField(\"email\", StringType(), True), \\\n",
    "    StructField(\"create_update_date\", DateType(), True), \\\n",
    "  ])\n",
    "\n",
    "employee_addr_schema = StructType([ \\\n",
    "    StructField(\"employee_id\",IntegerType(),True), \\\n",
    "    StructField(\"city\",StringType(),True), \\\n",
    "    StructField(\"region\",StringType(),True), \\\n",
    "    StructField(\"street_address\", StringType(), True), \\\n",
    "    StructField(\"country\", StringType(), True), \\\n",
    "    StructField(\"create_update_date\", DateType(), True) \\\n",
    "  ])\n",
    "\n",
    "employee_info_schema = StructType([ \\\n",
    "    StructField(\"employee_id\",IntegerType(),True), \\\n",
    "    StructField(\"salary\",IntegerType(),True), \\\n",
    "    StructField(\"is_fte\",BooleanType(),True), \\\n",
    "    StructField(\"is_remote\", BooleanType(), True), \\\n",
    "    StructField(\"employment_date\", DateType(), True), \\\n",
    "    StructField(\"create_update_date\", DateType(), True) \\\n",
    "  ])\n",
    "\n",
    "employee_data = [\n",
    "    (100, \"Steven\", \"King\", \"steven.king@contoso.com\", datetime.date(2023,1,27)),\n",
    "    (101, \"Neena\", \"Kochhar\", \"neena.kocchar@contoso.com\", datetime.date(2023,2,9)),\n",
    "    (102, \"Lex\", \"De Haan\", \"lex.de-haan@contoso.com\", datetime.date(2023,4,7)),\n",
    "    (103, \"Alexander\", \"Hunold\", \"alexander.hunold@contoso.com\", datetime.date(2023,2,24)),\n",
    "    (104, \"Bruce\", \"Ernst\", \"bruce.ernst@contoso.com\", datetime.date(2023,4,24))\n",
    "]\n",
    "\n",
    "employee_addr_data = [\n",
    "    (100, \"New York\", \"NY\", \"123 Main St\", \"United States\", datetime.date(2023,1,27)),\n",
    "    (101, \"London\", \"England\", \"456 Park Ave\", \"United Kingdom\", datetime.date(2023,2,9)),\n",
    "    (102, \"Paris\", \"ële-de-France\", \"789 Rue de la Paix\", \"France\", datetime.date(2023,4,7)),\n",
    "    (103, \"Tokyo\", \"Tokyo\", \"1-2-3 Shibuya\", \"Japan\", datetime.date(2023,2,24)),\n",
    "    (104, \"Sydney\", \"NSW\", \"456 George St\", \"Australia\", datetime.date(2023,4,24))\n",
    "]\n",
    "\n",
    "employee_info_data = [\n",
    "    (100, 5000, True, False, datetime.date(2020,1,15), datetime.date(2023,1,27)),\n",
    "    (101, 6000, True, True, datetime.date(2019,5,10), datetime.date(2023,2,9)),\n",
    "    (102, 5500, True, False, datetime.date(2021,3,22), datetime.date(2023,4,7)),\n",
    "    (103, 5200, True, True, datetime.date(2018,11,30), datetime.date(2023,2,24)),\n",
    "    (104, 5800, True, False, datetime.date(2017,9,12), datetime.date(2023,4,24))\n",
    "]\n",
    "\n",
    "df_employee = spark.createDataFrame(data=employee_data, schema=employee_schema)\n",
    "df_employee_addr = spark.createDataFrame(data=employee_addr_data, schema=employee_addr_schema)\n",
    "df_employee_info = spark.createDataFrame(data=employee_info_data, schema=employee_info_schema)\n",
    "\n",
    "df_employee.write.format(\"delta\").mode(\"overwrite\").saveAsTable(\"employee\")\n",
    "df_employee_addr.write.format(\"delta\").mode(\"overwrite\").saveAsTable(\"employee_address\")\n",
    "df_employee_info.write.format(\"delta\").mode(\"overwrite\").saveAsTable(\"employee_information\")"
   ]
  },
  {
   "cell_type": "code",
   "execution_count": 0,
   "metadata": {
    "application/vnd.databricks.v1+cell": {
     "cellMetadata": {
      "byteLimit": 2048000,
      "implicitDf": true,
      "rowLimit": 10000
     },
     "inputWidgets": {},
     "nuid": "e42064fc-a7f2-486d-bceb-8c24f2e05730",
     "showTitle": false,
     "title": ""
    }
   },
   "outputs": [
    {
     "output_type": "display_data",
     "data": {
      "text/html": [
       "<style scoped>\n",
       "  .table-result-container {\n",
       "    max-height: 300px;\n",
       "    overflow: auto;\n",
       "  }\n",
       "  table, th, td {\n",
       "    border: 1px solid black;\n",
       "    border-collapse: collapse;\n",
       "  }\n",
       "  th, td {\n",
       "    padding: 5px;\n",
       "  }\n",
       "  th {\n",
       "    text-align: left;\n",
       "  }\n",
       "</style><div class='table-result-container'><table class='table-result'><thead style='background-color: white'><tr><th>employee_id</th><th>salary</th><th>is_fte</th><th>is_remote</th><th>employment_date</th><th>create_update_date</th></tr></thead><tbody><tr><td>100</td><td>5000</td><td>true</td><td>false</td><td>2020-01-15</td><td>2023-01-27</td></tr><tr><td>101</td><td>6000</td><td>true</td><td>true</td><td>2019-05-10</td><td>2023-02-09</td></tr><tr><td>103</td><td>5200</td><td>true</td><td>true</td><td>2018-11-30</td><td>2023-02-24</td></tr><tr><td>104</td><td>5800</td><td>true</td><td>false</td><td>2017-09-12</td><td>2023-04-24</td></tr><tr><td>102</td><td>5500</td><td>true</td><td>false</td><td>2021-03-22</td><td>2023-04-07</td></tr></tbody></table></div>"
      ]
     },
     "metadata": {
      "application/vnd.databricks.v1+output": {
       "addedWidgets": {},
       "aggData": [],
       "aggError": "",
       "aggOverflow": false,
       "aggSchema": [],
       "aggSeriesLimitReached": false,
       "aggType": "",
       "arguments": {},
       "columnCustomDisplayInfos": {},
       "data": [
        [
         100,
         5000,
         true,
         false,
         "2020-01-15",
         "2023-01-27"
        ],
        [
         101,
         6000,
         true,
         true,
         "2019-05-10",
         "2023-02-09"
        ],
        [
         103,
         5200,
         true,
         true,
         "2018-11-30",
         "2023-02-24"
        ],
        [
         104,
         5800,
         true,
         false,
         "2017-09-12",
         "2023-04-24"
        ],
        [
         102,
         5500,
         true,
         false,
         "2021-03-22",
         "2023-04-07"
        ]
       ],
       "datasetInfos": [],
       "dbfsResultPath": null,
       "isJsonSchema": true,
       "metadata": {},
       "overflow": false,
       "plotOptions": {
        "customPlotOptions": {},
        "displayType": "table",
        "pivotAggregation": null,
        "pivotColumns": null,
        "xColumns": null,
        "yColumns": null
       },
       "removedWidgets": [],
       "schema": [
        {
         "metadata": "{}",
         "name": "employee_id",
         "type": "\"integer\""
        },
        {
         "metadata": "{}",
         "name": "salary",
         "type": "\"integer\""
        },
        {
         "metadata": "{}",
         "name": "is_fte",
         "type": "\"boolean\""
        },
        {
         "metadata": "{}",
         "name": "is_remote",
         "type": "\"boolean\""
        },
        {
         "metadata": "{}",
         "name": "employment_date",
         "type": "\"date\""
        },
        {
         "metadata": "{}",
         "name": "create_update_date",
         "type": "\"date\""
        }
       ],
       "type": "table"
      }
     },
     "output_type": "display_data"
    }
   ],
   "source": [
    "%sql\n",
    "select * from employee_information;"
   ]
  },
  {
   "cell_type": "code",
   "execution_count": 0,
   "metadata": {
    "application/vnd.databricks.v1+cell": {
     "cellMetadata": {
      "byteLimit": 2048000,
      "rowLimit": 10000
     },
     "inputWidgets": {},
     "nuid": "6ef040e4-54c8-4eb6-807d-bae6514c2887",
     "showTitle": true,
     "title": "Employee Tables"
    }
   },
   "outputs": [],
   "source": [
    "# This cell is creating a employee (driving), employee_address (referential table) and employee_information(referential table) delta table from a csv file\n",
    "\n",
    "from pyspark.sql.functions import lit\n",
    "from pyspark.sql.functions import concat, hash\n",
    "from pyspark.sql.functions import current_timestamp\n",
    "from pyspark.sql.types import StringType\n",
    "\n",
    "container_name = \"source\"\n",
    "\n",
    "##employee table\n",
    "df_employee_csv = spark.read.option(\"header\",True).option(\"delimiter\", \";\").csv(f\"abfss://{container_name}@{storage_account_name}.dfs.core.windows.net/employees_historical.csv\")\n",
    "df_employee_csv = df_employee_csv.select(\"EMPLOYEE_ID\",\"FIRST_NAME\",\"LAST_NAME\",\"EMAIL\", \"DT\")\n",
    "\n",
    "df_employee_csv.write.format(\"delta\").mode(\"overwrite\").saveAsTable(\"employee\")\n",
    "\n",
    "##address table\n",
    "df_address_csv = spark.read.option(\"header\",True).option(\"delimiter\", \";\").csv(f\"abfss://{container_name}@{storage_account_name}.dfs.core.windows.net/employee_address_historical.csv\")\n",
    "df_address_csv = df_address_csv.select(\"EMPLOYEE_ID\",\"CITY\",\"REGION\",\"STREET_ADDRESS\", \"COUNTRY\", \"DT\")\n",
    "\n",
    "df_address_csv.write.format(\"delta\").mode(\"overwrite\").saveAsTable(\"employee_address\")\n",
    "\n",
    "##info table\n",
    "df_info_csv = spark.read.option(\"header\",True).option(\"delimiter\", \";\").csv(f\"abfss://{container_name}@{storage_account_name}.dfs.core.windows.net/employee_information_historical.csv\")\n",
    "df_info_csv = df_info_csv.select(\"EMPLOYEE_ID\",\"SALARY\",\"IS_FTE\",\"IS_REMOTE\", \"EMPLOYMENT_DATE\", \"DT\")\n",
    "\n",
    "\n",
    "df_info_csv.write.format(\"delta\").mode(\"overwrite\").saveAsTable(\"employee_information\")"
   ]
  },
  {
   "cell_type": "code",
   "execution_count": 0,
   "metadata": {
    "application/vnd.databricks.v1+cell": {
     "cellMetadata": {
      "byteLimit": 2048000,
      "implicitDf": true,
      "rowLimit": 10000
     },
     "inputWidgets": {},
     "nuid": "07f8fede-91a4-401a-bc19-68345bcb32dd",
     "showTitle": true,
     "title": "Enable change data feed on employee, employee address and employee information table"
    }
   },
   "outputs": [
    {
     "output_type": "display_data",
     "data": {
      "text/html": [
       "<style scoped>\n",
       "  .table-result-container {\n",
       "    max-height: 300px;\n",
       "    overflow: auto;\n",
       "  }\n",
       "  table, th, td {\n",
       "    border: 1px solid black;\n",
       "    border-collapse: collapse;\n",
       "  }\n",
       "  th, td {\n",
       "    padding: 5px;\n",
       "  }\n",
       "  th {\n",
       "    text-align: left;\n",
       "  }\n",
       "</style><div class='table-result-container'><table class='table-result'><thead style='background-color: white'><tr></tr></thead><tbody></tbody></table></div>"
      ]
     },
     "metadata": {
      "application/vnd.databricks.v1+output": {
       "addedWidgets": {},
       "aggData": [],
       "aggError": "",
       "aggOverflow": false,
       "aggSchema": [],
       "aggSeriesLimitReached": false,
       "aggType": "",
       "arguments": {},
       "columnCustomDisplayInfos": {},
       "data": [],
       "datasetInfos": [],
       "dbfsResultPath": null,
       "isJsonSchema": true,
       "metadata": {},
       "overflow": false,
       "plotOptions": {
        "customPlotOptions": {},
        "displayType": "table",
        "pivotAggregation": null,
        "pivotColumns": null,
        "xColumns": null,
        "yColumns": null
       },
       "removedWidgets": [],
       "schema": [],
       "type": "table"
      }
     },
     "output_type": "display_data"
    }
   ],
   "source": [
    "%sql\n",
    "ALTER TABLE employee SET TBLPROPERTIES (delta.enableChangeDataFeed = true);\n",
    "ALTER TABLE employee_address SET TBLPROPERTIES (delta.enableChangeDataFeed = true);\n",
    "ALTER TABLE employee_information SET TBLPROPERTIES (delta.enableChangeDataFeed = true);"
   ]
  },
  {
   "cell_type": "markdown",
   "metadata": {
    "application/vnd.databricks.v1+cell": {
     "cellMetadata": {},
     "inputWidgets": {},
     "nuid": "c635aed8-f44c-4000-963a-19a422a97f40",
     "showTitle": false,
     "title": ""
    }
   },
   "source": [
    "#### Create a Target Employee entity gathering info from employee, employee_address and employee_information tables\n",
    "\n",
    "- Driving table : Employee\n",
    "- Referential table 1: Employee address\n",
    "- Referential table 2 : Employee information"
   ]
  },
  {
   "cell_type": "code",
   "execution_count": 0,
   "metadata": {
    "application/vnd.databricks.v1+cell": {
     "cellMetadata": {
      "byteLimit": 2048000,
      "rowLimit": 10000
     },
     "inputWidgets": {},
     "nuid": "f8a80cd5-0200-4518-a33d-9741f178521b",
     "showTitle": false,
     "title": ""
    }
   },
   "outputs": [],
   "source": [
    "employee_df = spark.sql(\"\"\"\n",
    "                        select \n",
    "                        md5(concat(employee.EMPLOYEE_ID,employee.FIRST_NAME,employee.LAST_NAME,employee.EMAIL, employee.create_update_date)) as id,\n",
    "                        employee.employee_id,\n",
    "                        employee.first_name,\n",
    "                        employee.last_name,\n",
    "                        employee.email,\n",
    "                        address.city,\n",
    "                        address.region,\n",
    "                        address.street_address,\n",
    "                        address.country,\n",
    "                        info.salary,\n",
    "                        info.is_fte,\n",
    "                        info.is_remote,\n",
    "                        info.employment_date,\n",
    "                        employee.create_update_date as employee_create_update_date,\n",
    "                        address.create_update_date as address_create_update_date,\n",
    "                        info.create_update_date as info_create_update_date,\n",
    "                        int(1) as address_commit_version,\n",
    "                        int(1) as info_commit_version,\n",
    "                        int(1) as employee_commit_version,\n",
    "\n",
    "                        ---scd\n",
    "                        int(1) as valid_flag,\n",
    "                        greatest(address.create_update_date, info.create_update_date, employee.create_update_date) as valid_from,  ---take the greatest of all the dates. This gives a viewpoint that this record was latest updated from the greatest date\n",
    "                        timestamp(\"9999-12-31\") as valid_to\n",
    "                        from employee employee\n",
    "                        inner join employee_address address on employee.employee_id=address.employee_id\n",
    "                        inner join employee_information info on employee.employee_id=info.employee_id\n",
    "                        \"\"\")"
   ]
  },
  {
   "cell_type": "code",
   "execution_count": 0,
   "metadata": {
    "application/vnd.databricks.v1+cell": {
     "cellMetadata": {
      "byteLimit": 2048000,
      "rowLimit": 10000
     },
     "inputWidgets": {},
     "nuid": "c7ca0523-f73d-47e3-81e0-6fca24dea442",
     "showTitle": true,
     "title": "Prepare Gold layer table - Target_employee. We will also create a copy of this table for historical chaining "
    }
   },
   "outputs": [],
   "source": [
    "# This cell prepares a target_employee table from the above tables.\n",
    "\n",
    "employee_df.write.format(\"delta\").mode(\"overwrite\").saveAsTable(\"target_employee\")\n",
    "employee_df.write.format(\"delta\").mode(\"overwrite\").saveAsTable(\"target_employee_historical\")"
   ]
  },
  {
   "cell_type": "markdown",
   "metadata": {
    "application/vnd.databricks.v1+cell": {
     "cellMetadata": {},
     "inputWidgets": {},
     "nuid": "c7f545dd-4221-490e-a00e-0e04dac4f3f9",
     "showTitle": false,
     "title": ""
    }
   },
   "source": [
    "#### Query target table - Employee"
   ]
  },
  {
   "cell_type": "code",
   "execution_count": 0,
   "metadata": {
    "application/vnd.databricks.v1+cell": {
     "cellMetadata": {
      "byteLimit": 2048000,
      "implicitDf": true,
      "rowLimit": 10000
     },
     "inputWidgets": {},
     "nuid": "e1683ae8-37c9-4c22-aeb7-13e1769ec0ea",
     "showTitle": false,
     "title": ""
    }
   },
   "outputs": [
    {
     "output_type": "display_data",
     "data": {
      "text/html": [
       "<style scoped>\n",
       "  .table-result-container {\n",
       "    max-height: 300px;\n",
       "    overflow: auto;\n",
       "  }\n",
       "  table, th, td {\n",
       "    border: 1px solid black;\n",
       "    border-collapse: collapse;\n",
       "  }\n",
       "  th, td {\n",
       "    padding: 5px;\n",
       "  }\n",
       "  th {\n",
       "    text-align: left;\n",
       "  }\n",
       "</style><div class='table-result-container'><table class='table-result'><thead style='background-color: white'><tr><th>id</th><th>employee_id</th><th>first_name</th><th>last_name</th><th>email</th><th>city</th><th>region</th><th>street_address</th><th>country</th><th>salary</th><th>is_fte</th><th>is_remote</th><th>employment_date</th><th>employee_create_update_date</th><th>address_create_update_date</th><th>info_create_update_date</th><th>address_commit_version</th><th>info_commit_version</th><th>employee_commit_version</th><th>valid_flag</th><th>valid_from</th><th>valid_to</th></tr></thead><tbody><tr><td>d4d0569aa28e28d83a3d9a8888a30a27</td><td>101</td><td>Neena</td><td>Kochhar</td><td>neena.kocchar@contoso.com</td><td>London</td><td>England</td><td>456 Park Ave</td><td>United Kingdom</td><td>6000</td><td>true</td><td>true</td><td>2019-05-10</td><td>2023-02-09</td><td>2023-02-09</td><td>2023-02-09</td><td>1</td><td>1</td><td>1</td><td>1</td><td>2023-02-09</td><td>9999-12-31T00:00:00.000+0000</td></tr><tr><td>be613e2a8166f377f65967bd9073188d</td><td>102</td><td>Lex</td><td>De Haan</td><td>lex.de-haan@contoso.com</td><td>Paris</td><td>ële-de-France</td><td>789 Rue de la Paix</td><td>France</td><td>5500</td><td>true</td><td>false</td><td>2021-03-22</td><td>2023-04-07</td><td>2023-04-07</td><td>2023-04-07</td><td>1</td><td>1</td><td>1</td><td>1</td><td>2023-04-07</td><td>9999-12-31T00:00:00.000+0000</td></tr><tr><td>5a60257eabea5111d4e8aa0cf56fb109</td><td>103</td><td>Alexander</td><td>Hunold</td><td>alexander.hunold@contoso.com</td><td>Tokyo</td><td>Tokyo</td><td>1-2-3 Shibuya</td><td>Japan</td><td>5200</td><td>true</td><td>true</td><td>2018-11-30</td><td>2023-02-24</td><td>2023-02-24</td><td>2023-02-24</td><td>1</td><td>1</td><td>1</td><td>1</td><td>2023-02-24</td><td>9999-12-31T00:00:00.000+0000</td></tr><tr><td>014830e89472a8ac527a5c6b2c1e5fe5</td><td>100</td><td>Steven</td><td>King</td><td>steven.king@contoso.com</td><td>New York</td><td>NY</td><td>123 Main St</td><td>United States</td><td>5000</td><td>true</td><td>false</td><td>2020-01-15</td><td>2023-01-27</td><td>2023-01-27</td><td>2023-01-27</td><td>1</td><td>1</td><td>1</td><td>1</td><td>2023-01-27</td><td>9999-12-31T00:00:00.000+0000</td></tr><tr><td>3b2c89840dc66c48dedbbb8ecac15ada</td><td>104</td><td>Bruce</td><td>Ernst</td><td>bruce.ernst@contoso.com</td><td>Sydney</td><td>NSW</td><td>456 George St</td><td>Australia</td><td>5800</td><td>true</td><td>false</td><td>2017-09-12</td><td>2023-04-24</td><td>2023-04-24</td><td>2023-04-24</td><td>1</td><td>1</td><td>1</td><td>1</td><td>2023-04-24</td><td>9999-12-31T00:00:00.000+0000</td></tr></tbody></table></div>"
      ]
     },
     "metadata": {
      "application/vnd.databricks.v1+output": {
       "addedWidgets": {},
       "aggData": [],
       "aggError": "",
       "aggOverflow": false,
       "aggSchema": [],
       "aggSeriesLimitReached": false,
       "aggType": "",
       "arguments": {},
       "columnCustomDisplayInfos": {},
       "data": [
        [
         "d4d0569aa28e28d83a3d9a8888a30a27",
         101,
         "Neena",
         "Kochhar",
         "neena.kocchar@contoso.com",
         "London",
         "England",
         "456 Park Ave",
         "United Kingdom",
         6000,
         true,
         true,
         "2019-05-10",
         "2023-02-09",
         "2023-02-09",
         "2023-02-09",
         1,
         1,
         1,
         1,
         "2023-02-09",
         "9999-12-31T00:00:00.000+0000"
        ],
        [
         "be613e2a8166f377f65967bd9073188d",
         102,
         "Lex",
         "De Haan",
         "lex.de-haan@contoso.com",
         "Paris",
         "ële-de-France",
         "789 Rue de la Paix",
         "France",
         5500,
         true,
         false,
         "2021-03-22",
         "2023-04-07",
         "2023-04-07",
         "2023-04-07",
         1,
         1,
         1,
         1,
         "2023-04-07",
         "9999-12-31T00:00:00.000+0000"
        ],
        [
         "5a60257eabea5111d4e8aa0cf56fb109",
         103,
         "Alexander",
         "Hunold",
         "alexander.hunold@contoso.com",
         "Tokyo",
         "Tokyo",
         "1-2-3 Shibuya",
         "Japan",
         5200,
         true,
         true,
         "2018-11-30",
         "2023-02-24",
         "2023-02-24",
         "2023-02-24",
         1,
         1,
         1,
         1,
         "2023-02-24",
         "9999-12-31T00:00:00.000+0000"
        ],
        [
         "014830e89472a8ac527a5c6b2c1e5fe5",
         100,
         "Steven",
         "King",
         "steven.king@contoso.com",
         "New York",
         "NY",
         "123 Main St",
         "United States",
         5000,
         true,
         false,
         "2020-01-15",
         "2023-01-27",
         "2023-01-27",
         "2023-01-27",
         1,
         1,
         1,
         1,
         "2023-01-27",
         "9999-12-31T00:00:00.000+0000"
        ],
        [
         "3b2c89840dc66c48dedbbb8ecac15ada",
         104,
         "Bruce",
         "Ernst",
         "bruce.ernst@contoso.com",
         "Sydney",
         "NSW",
         "456 George St",
         "Australia",
         5800,
         true,
         false,
         "2017-09-12",
         "2023-04-24",
         "2023-04-24",
         "2023-04-24",
         1,
         1,
         1,
         1,
         "2023-04-24",
         "9999-12-31T00:00:00.000+0000"
        ]
       ],
       "datasetInfos": [],
       "dbfsResultPath": null,
       "isJsonSchema": true,
       "metadata": {},
       "overflow": false,
       "plotOptions": {
        "customPlotOptions": {},
        "displayType": "table",
        "pivotAggregation": null,
        "pivotColumns": null,
        "xColumns": null,
        "yColumns": null
       },
       "removedWidgets": [],
       "schema": [
        {
         "metadata": "{}",
         "name": "id",
         "type": "\"string\""
        },
        {
         "metadata": "{}",
         "name": "employee_id",
         "type": "\"integer\""
        },
        {
         "metadata": "{}",
         "name": "first_name",
         "type": "\"string\""
        },
        {
         "metadata": "{}",
         "name": "last_name",
         "type": "\"string\""
        },
        {
         "metadata": "{}",
         "name": "email",
         "type": "\"string\""
        },
        {
         "metadata": "{}",
         "name": "city",
         "type": "\"string\""
        },
        {
         "metadata": "{}",
         "name": "region",
         "type": "\"string\""
        },
        {
         "metadata": "{}",
         "name": "street_address",
         "type": "\"string\""
        },
        {
         "metadata": "{}",
         "name": "country",
         "type": "\"string\""
        },
        {
         "metadata": "{}",
         "name": "salary",
         "type": "\"integer\""
        },
        {
         "metadata": "{}",
         "name": "is_fte",
         "type": "\"boolean\""
        },
        {
         "metadata": "{}",
         "name": "is_remote",
         "type": "\"boolean\""
        },
        {
         "metadata": "{}",
         "name": "employment_date",
         "type": "\"date\""
        },
        {
         "metadata": "{}",
         "name": "employee_create_update_date",
         "type": "\"date\""
        },
        {
         "metadata": "{}",
         "name": "address_create_update_date",
         "type": "\"date\""
        },
        {
         "metadata": "{}",
         "name": "info_create_update_date",
         "type": "\"date\""
        },
        {
         "metadata": "{}",
         "name": "address_commit_version",
         "type": "\"integer\""
        },
        {
         "metadata": "{}",
         "name": "info_commit_version",
         "type": "\"integer\""
        },
        {
         "metadata": "{}",
         "name": "employee_commit_version",
         "type": "\"integer\""
        },
        {
         "metadata": "{}",
         "name": "valid_flag",
         "type": "\"integer\""
        },
        {
         "metadata": "{}",
         "name": "valid_from",
         "type": "\"date\""
        },
        {
         "metadata": "{}",
         "name": "valid_to",
         "type": "\"timestamp\""
        }
       ],
       "type": "table"
      }
     },
     "output_type": "display_data"
    }
   ],
   "source": [
    "%sql\n",
    "select * from default.target_employee limit 10;"
   ]
  },
  {
   "cell_type": "code",
   "execution_count": 0,
   "metadata": {
    "application/vnd.databricks.v1+cell": {
     "cellMetadata": {
      "byteLimit": 2048000,
      "implicitDf": true,
      "rowLimit": 10000
     },
     "inputWidgets": {},
     "nuid": "2aa10611-1a05-4f36-ac4d-b1d832eac7d9",
     "showTitle": true,
     "title": "Apply changes to silver layer tables"
    }
   },
   "outputs": [
    {
     "output_type": "display_data",
     "data": {
      "text/html": [
       "<style scoped>\n",
       "  .table-result-container {\n",
       "    max-height: 300px;\n",
       "    overflow: auto;\n",
       "  }\n",
       "  table, th, td {\n",
       "    border: 1px solid black;\n",
       "    border-collapse: collapse;\n",
       "  }\n",
       "  th, td {\n",
       "    padding: 5px;\n",
       "  }\n",
       "  th {\n",
       "    text-align: left;\n",
       "  }\n",
       "</style><div class='table-result-container'><table class='table-result'><thead style='background-color: white'><tr><th>employee_id</th><th>salary</th><th>is_fte</th><th>is_remote</th><th>employment_date</th><th>create_update_date</th></tr></thead><tbody><tr><td>100</td><td>5000</td><td>true</td><td>false</td><td>2020-01-15</td><td>2023-01-27</td></tr><tr><td>101</td><td>6000</td><td>true</td><td>true</td><td>2019-05-10</td><td>2023-02-09</td></tr><tr><td>102</td><td>8000</td><td>true</td><td>false</td><td>2021-03-22</td><td>2023-07-15</td></tr><tr><td>103</td><td>7000</td><td>true</td><td>true</td><td>2018-11-30</td><td>2023-07-10</td></tr><tr><td>104</td><td>5800</td><td>false</td><td>false</td><td>2017-09-12</td><td>2023-07-14</td></tr></tbody></table></div>"
      ]
     },
     "metadata": {
      "application/vnd.databricks.v1+output": {
       "addedWidgets": {},
       "aggData": [],
       "aggError": "",
       "aggOverflow": false,
       "aggSchema": [],
       "aggSeriesLimitReached": false,
       "aggType": "",
       "arguments": {},
       "columnCustomDisplayInfos": {},
       "data": [
        [
         100,
         5000,
         true,
         false,
         "2020-01-15",
         "2023-01-27"
        ],
        [
         101,
         6000,
         true,
         true,
         "2019-05-10",
         "2023-02-09"
        ],
        [
         102,
         8000,
         true,
         false,
         "2021-03-22",
         "2023-07-15"
        ],
        [
         103,
         7000,
         true,
         true,
         "2018-11-30",
         "2023-07-10"
        ],
        [
         104,
         5800,
         false,
         false,
         "2017-09-12",
         "2023-07-14"
        ]
       ],
       "datasetInfos": [],
       "dbfsResultPath": null,
       "isJsonSchema": true,
       "metadata": {},
       "overflow": false,
       "plotOptions": {
        "customPlotOptions": {},
        "displayType": "table",
        "pivotAggregation": null,
        "pivotColumns": null,
        "xColumns": null,
        "yColumns": null
       },
       "removedWidgets": [],
       "schema": [
        {
         "metadata": "{}",
         "name": "employee_id",
         "type": "\"integer\""
        },
        {
         "metadata": "{}",
         "name": "salary",
         "type": "\"integer\""
        },
        {
         "metadata": "{}",
         "name": "is_fte",
         "type": "\"boolean\""
        },
        {
         "metadata": "{}",
         "name": "is_remote",
         "type": "\"boolean\""
        },
        {
         "metadata": "{}",
         "name": "employment_date",
         "type": "\"date\""
        },
        {
         "metadata": "{}",
         "name": "create_update_date",
         "type": "\"date\""
        }
       ],
       "type": "table"
      }
     },
     "output_type": "display_data"
    }
   ],
   "source": [
    "%sql\n",
    "\n",
    "\n",
    "-- original create_update_date of records\n",
    "-- 100,(2023,1,27)), (101,(2023,2,9)),(102, (2023,4,7)),103, 2023,2,24)), (104, (2023,4,24))\n",
    "\n",
    "-- This cell applies some changes to the employee table.\n",
    "--ids - [300,100]\n",
    "\n",
    "insert into employee values ('300','John','Doe','john.doe', '2023-04-04');\n",
    "update employee set FIRST_NAME = 'Steven2', create_update_date = '2023-07-13' where EMPLOYEE_ID = '100';\n",
    "update employee set FIRST_NAME = 'Steven3' , create_update_date = '2023-07-17' where EMPLOYEE_ID = '100';\n",
    "\n",
    "\n",
    "-- This cell applies some changes to the employee_address table.\n",
    "--ids - [102,104,100]\n",
    "\n",
    "update employee_address set CITY = 'Lille', create_update_date = '2023-07-15' where EMPLOYEE_ID = '102';\n",
    "update employee_address set CITY = 'NewCastle', create_update_date = '2023-07-14' where EMPLOYEE_ID = '104';\n",
    "update employee_address set STREET_ADDRESS = '456 Baker Street', create_update_date='2023-07-13' where EMPLOYEE_ID = '100';\n",
    "\n",
    "-- This cell applies some changes to the employee_information table.\n",
    "--ids - [108,104,102]\n",
    "\n",
    "update employee_information set SALARY = 7000,create_update_date = '2023-07-10' where EMPLOYEE_ID = '103';\n",
    "update employee_information set SALARY = 8000, create_update_date= '2023-07-15' where EMPLOYEE_ID = '102';\n",
    "update employee_information set IS_FTE= FALSE, create_update_date = '2023-07-14' where EMPLOYEE_ID = '104';\n",
    "\n",
    "\n",
    "select * from employee order by EMPLOYEE_ID;\n",
    "select * from employee_address order by EMPLOYEE_ID;\n",
    "select * from employee_information order by EMPLOYEE_ID;\n"
   ]
  },
  {
   "cell_type": "markdown",
   "metadata": {
    "application/vnd.databricks.v1+cell": {
     "cellMetadata": {},
     "inputWidgets": {},
     "nuid": "b013a341-c50c-45ce-b125-a445dcdff2cc",
     "showTitle": false,
     "title": ""
    }
   },
   "source": [
    "#### Get Referential Table Changes - employee_address and employee_information"
   ]
  },
  {
   "cell_type": "code",
   "execution_count": 0,
   "metadata": {
    "application/vnd.databricks.v1+cell": {
     "cellMetadata": {
      "byteLimit": 2048000,
      "rowLimit": 10000
     },
     "inputWidgets": {},
     "nuid": "3fc22417-fdb2-4da7-91b9-064db83df88a",
     "showTitle": false,
     "title": ""
    }
   },
   "outputs": [
    {
     "output_type": "display_data",
     "data": {
      "text/html": [
       "<style scoped>\n",
       "  .table-result-container {\n",
       "    max-height: 300px;\n",
       "    overflow: auto;\n",
       "  }\n",
       "  table, th, td {\n",
       "    border: 1px solid black;\n",
       "    border-collapse: collapse;\n",
       "  }\n",
       "  th, td {\n",
       "    padding: 5px;\n",
       "  }\n",
       "  th {\n",
       "    text-align: left;\n",
       "  }\n",
       "</style><div class='table-result-container'><table class='table-result'><thead style='background-color: white'><tr><th>employee_id</th><th>city</th><th>region</th><th>street_address</th><th>country</th><th>create_update_date</th><th>_change_type</th><th>_commit_version</th><th>_commit_timestamp</th></tr></thead><tbody><tr><td>102</td><td>Lille</td><td>ële-de-France</td><td>789 Rue de la Paix</td><td>France</td><td>2023-07-15</td><td>update_postimage</td><td>2</td><td>2023-08-11T12:57:08.000+0000</td></tr><tr><td>100</td><td>New York</td><td>NY</td><td>456 Baker Street</td><td>United States</td><td>2023-07-13</td><td>update_postimage</td><td>4</td><td>2023-08-11T12:57:12.000+0000</td></tr><tr><td>104</td><td>NewCastle</td><td>NSW</td><td>456 George St</td><td>Australia</td><td>2023-07-14</td><td>update_postimage</td><td>3</td><td>2023-08-11T12:57:10.000+0000</td></tr></tbody></table></div>"
      ]
     },
     "metadata": {
      "application/vnd.databricks.v1+output": {
       "addedWidgets": {},
       "aggData": [],
       "aggError": "",
       "aggOverflow": false,
       "aggSchema": [],
       "aggSeriesLimitReached": false,
       "aggType": "",
       "arguments": {},
       "columnCustomDisplayInfos": {},
       "data": [
        [
         102,
         "Lille",
         "ële-de-France",
         "789 Rue de la Paix",
         "France",
         "2023-07-15",
         "update_postimage",
         2,
         "2023-08-11T12:57:08.000+0000"
        ],
        [
         100,
         "New York",
         "NY",
         "456 Baker Street",
         "United States",
         "2023-07-13",
         "update_postimage",
         4,
         "2023-08-11T12:57:12.000+0000"
        ],
        [
         104,
         "NewCastle",
         "NSW",
         "456 George St",
         "Australia",
         "2023-07-14",
         "update_postimage",
         3,
         "2023-08-11T12:57:10.000+0000"
        ]
       ],
       "datasetInfos": [],
       "dbfsResultPath": null,
       "isJsonSchema": true,
       "metadata": {},
       "overflow": false,
       "plotOptions": {
        "customPlotOptions": {},
        "displayType": "table",
        "pivotAggregation": null,
        "pivotColumns": null,
        "xColumns": null,
        "yColumns": null
       },
       "removedWidgets": [],
       "schema": [
        {
         "metadata": "{}",
         "name": "employee_id",
         "type": "\"integer\""
        },
        {
         "metadata": "{}",
         "name": "city",
         "type": "\"string\""
        },
        {
         "metadata": "{}",
         "name": "region",
         "type": "\"string\""
        },
        {
         "metadata": "{}",
         "name": "street_address",
         "type": "\"string\""
        },
        {
         "metadata": "{}",
         "name": "country",
         "type": "\"string\""
        },
        {
         "metadata": "{}",
         "name": "create_update_date",
         "type": "\"date\""
        },
        {
         "metadata": "{}",
         "name": "_change_type",
         "type": "\"string\""
        },
        {
         "metadata": "{}",
         "name": "_commit_version",
         "type": "\"long\""
        },
        {
         "metadata": "{}",
         "name": "_commit_timestamp",
         "type": "\"timestamp\""
        }
       ],
       "type": "table"
      }
     },
     "output_type": "display_data"
    },
    {
     "output_type": "display_data",
     "data": {
      "text/html": [
       "<style scoped>\n",
       "  .table-result-container {\n",
       "    max-height: 300px;\n",
       "    overflow: auto;\n",
       "  }\n",
       "  table, th, td {\n",
       "    border: 1px solid black;\n",
       "    border-collapse: collapse;\n",
       "  }\n",
       "  th, td {\n",
       "    padding: 5px;\n",
       "  }\n",
       "  th {\n",
       "    text-align: left;\n",
       "  }\n",
       "</style><div class='table-result-container'><table class='table-result'><thead style='background-color: white'><tr><th>employee_id</th><th>salary</th><th>is_fte</th><th>is_remote</th><th>employment_date</th><th>create_update_date</th><th>_change_type</th><th>_commit_version</th><th>_commit_timestamp</th></tr></thead><tbody><tr><td>104</td><td>5800</td><td>false</td><td>false</td><td>2017-09-12</td><td>2023-07-14</td><td>update_postimage</td><td>4</td><td>2023-08-11T12:57:18.000+0000</td></tr><tr><td>103</td><td>7000</td><td>true</td><td>true</td><td>2018-11-30</td><td>2023-07-10</td><td>update_postimage</td><td>2</td><td>2023-08-11T12:57:14.000+0000</td></tr><tr><td>102</td><td>8000</td><td>true</td><td>false</td><td>2021-03-22</td><td>2023-07-15</td><td>update_postimage</td><td>3</td><td>2023-08-11T12:57:16.000+0000</td></tr></tbody></table></div>"
      ]
     },
     "metadata": {
      "application/vnd.databricks.v1+output": {
       "addedWidgets": {},
       "aggData": [],
       "aggError": "",
       "aggOverflow": false,
       "aggSchema": [],
       "aggSeriesLimitReached": false,
       "aggType": "",
       "arguments": {},
       "columnCustomDisplayInfos": {},
       "data": [
        [
         104,
         5800,
         false,
         false,
         "2017-09-12",
         "2023-07-14",
         "update_postimage",
         4,
         "2023-08-11T12:57:18.000+0000"
        ],
        [
         103,
         7000,
         true,
         true,
         "2018-11-30",
         "2023-07-10",
         "update_postimage",
         2,
         "2023-08-11T12:57:14.000+0000"
        ],
        [
         102,
         8000,
         true,
         false,
         "2021-03-22",
         "2023-07-15",
         "update_postimage",
         3,
         "2023-08-11T12:57:16.000+0000"
        ]
       ],
       "datasetInfos": [],
       "dbfsResultPath": null,
       "isJsonSchema": true,
       "metadata": {},
       "overflow": false,
       "plotOptions": {
        "customPlotOptions": {},
        "displayType": "table",
        "pivotAggregation": null,
        "pivotColumns": null,
        "xColumns": null,
        "yColumns": null
       },
       "removedWidgets": [],
       "schema": [
        {
         "metadata": "{}",
         "name": "employee_id",
         "type": "\"integer\""
        },
        {
         "metadata": "{}",
         "name": "salary",
         "type": "\"integer\""
        },
        {
         "metadata": "{}",
         "name": "is_fte",
         "type": "\"boolean\""
        },
        {
         "metadata": "{}",
         "name": "is_remote",
         "type": "\"boolean\""
        },
        {
         "metadata": "{}",
         "name": "employment_date",
         "type": "\"date\""
        },
        {
         "metadata": "{}",
         "name": "create_update_date",
         "type": "\"date\""
        },
        {
         "metadata": "{}",
         "name": "_change_type",
         "type": "\"string\""
        },
        {
         "metadata": "{}",
         "name": "_commit_version",
         "type": "\"long\""
        },
        {
         "metadata": "{}",
         "name": "_commit_timestamp",
         "type": "\"timestamp\""
        }
       ],
       "type": "table"
      }
     },
     "output_type": "display_data"
    },
    {
     "output_type": "display_data",
     "data": {
      "text/html": [
       "<style scoped>\n",
       "  .table-result-container {\n",
       "    max-height: 300px;\n",
       "    overflow: auto;\n",
       "  }\n",
       "  table, th, td {\n",
       "    border: 1px solid black;\n",
       "    border-collapse: collapse;\n",
       "  }\n",
       "  th, td {\n",
       "    padding: 5px;\n",
       "  }\n",
       "  th {\n",
       "    text-align: left;\n",
       "  }\n",
       "</style><div class='table-result-container'><table class='table-result'><thead style='background-color: white'><tr><th>employee_id</th><th>first_name</th><th>last_name</th><th>email</th><th>create_update_date</th><th>_change_type</th><th>_commit_version</th><th>_commit_timestamp</th></tr></thead><tbody><tr><td>100</td><td>Steven3</td><td>King</td><td>steven.king@contoso.com</td><td>2023-07-17</td><td>update_postimage</td><td>4</td><td>2023-08-11T12:57:05.000+0000</td></tr><tr><td>100</td><td>Steven2</td><td>King</td><td>steven.king@contoso.com</td><td>2023-07-13</td><td>update_postimage</td><td>3</td><td>2023-08-11T12:57:03.000+0000</td></tr><tr><td>300</td><td>John</td><td>Doe</td><td>john.doe</td><td>2023-04-04</td><td>insert</td><td>2</td><td>2023-08-11T12:57:01.000+0000</td></tr></tbody></table></div>"
      ]
     },
     "metadata": {
      "application/vnd.databricks.v1+output": {
       "addedWidgets": {},
       "aggData": [],
       "aggError": "",
       "aggOverflow": false,
       "aggSchema": [],
       "aggSeriesLimitReached": false,
       "aggType": "",
       "arguments": {},
       "columnCustomDisplayInfos": {},
       "data": [
        [
         100,
         "Steven3",
         "King",
         "steven.king@contoso.com",
         "2023-07-17",
         "update_postimage",
         4,
         "2023-08-11T12:57:05.000+0000"
        ],
        [
         100,
         "Steven2",
         "King",
         "steven.king@contoso.com",
         "2023-07-13",
         "update_postimage",
         3,
         "2023-08-11T12:57:03.000+0000"
        ],
        [
         300,
         "John",
         "Doe",
         "john.doe",
         "2023-04-04",
         "insert",
         2,
         "2023-08-11T12:57:01.000+0000"
        ]
       ],
       "datasetInfos": [],
       "dbfsResultPath": null,
       "isJsonSchema": true,
       "metadata": {},
       "overflow": false,
       "plotOptions": {
        "customPlotOptions": {},
        "displayType": "table",
        "pivotAggregation": null,
        "pivotColumns": null,
        "xColumns": null,
        "yColumns": null
       },
       "removedWidgets": [],
       "schema": [
        {
         "metadata": "{}",
         "name": "employee_id",
         "type": "\"integer\""
        },
        {
         "metadata": "{}",
         "name": "first_name",
         "type": "\"string\""
        },
        {
         "metadata": "{}",
         "name": "last_name",
         "type": "\"string\""
        },
        {
         "metadata": "{}",
         "name": "email",
         "type": "\"string\""
        },
        {
         "metadata": "{}",
         "name": "create_update_date",
         "type": "\"date\""
        },
        {
         "metadata": "{}",
         "name": "_change_type",
         "type": "\"string\""
        },
        {
         "metadata": "{}",
         "name": "_commit_version",
         "type": "\"long\""
        },
        {
         "metadata": "{}",
         "name": "_commit_timestamp",
         "type": "\"timestamp\""
        }
       ],
       "type": "table"
      }
     },
     "output_type": "display_data"
    }
   ],
   "source": [
    "# get all the records from employee_address which has commit version bigger than max_commit_version in target_employee\n",
    "# get max commit_version from target_employee for address and information (referential table)\n",
    "\n",
    "import pyspark.sql.functions as F\n",
    "\n",
    "max_commit_employee_version = spark.read.format(\"delta\").table(\"target_employee\").agg({\"employee_commit_version\": \"max\"}).collect()[0][0]\n",
    "max_commit_address_version = spark.read.format(\"delta\").table(\"target_employee\").agg({\"address_commit_version\": \"max\"}).collect()[0][0]\n",
    "\n",
    "max_commit_information_version = spark.read.format(\"delta\").table(\"target_employee\").agg({\"info_commit_version\": \"max\"}).collect()[0][0]\n",
    "\n",
    "\n",
    "changes_address_df = spark.read.format(\"delta\").option(\"readChangeData\", True).option(\"startingVersion\", (max_commit_address_version+1)).table('employee_address').\\\n",
    "                                                                                            where(~F.col('_change_type').eqNullSafe('update_preimage'))\n",
    "\n",
    "changes_information_df = spark.read.format(\"delta\").option(\"readChangeData\", True).option(\"startingVersion\", (max_commit_information_version+1)).table('employee_information').\\\n",
    "                                                                                            where(~F.col('_change_type').eqNullSafe('update_preimage'))\n",
    "\n",
    "##driving\n",
    "changes_employee_df = spark.read.format(\"delta\").option(\"readChangeData\", True).option(\"startingVersion\", (max_commit_employee_version+1)).table('employee').\\\n",
    "                                                                                            where(~F.col('_change_type').eqNullSafe('update_preimage'))                                                                                            \n",
    "\n",
    "changes_address_df.createOrReplaceTempView(\"changes_address\")\n",
    "changes_information_df.createOrReplaceTempView(\"changes_information\")\n",
    "changes_employee_df.createOrReplaceTempView(\"changes_employee\")\n",
    "\n",
    "display(changes_address_df)\n",
    "display(changes_information_df)      \n",
    "display(changes_employee_df)   \n",
    "\n",
    "\n",
    "#ids should be\n",
    "#address - --ids - [102,104,100]\n",
    "#info --ids - [102,104,108]\n",
    "#employee - --ids - [300,100]"
   ]
  },
  {
   "cell_type": "markdown",
   "metadata": {
    "application/vnd.databricks.v1+cell": {
     "cellMetadata": {},
     "inputWidgets": {},
     "nuid": "d94ad1ea-9289-459b-93df-481c4fb82038",
     "showTitle": false,
     "title": ""
    }
   },
   "source": [
    "#### Create Referential Changes df - read entire main table -employee and only changes for address and information"
   ]
  },
  {
   "cell_type": "markdown",
   "metadata": {
    "application/vnd.databricks.v1+cell": {
     "cellMetadata": {},
     "inputWidgets": {},
     "nuid": "d328745d-2743-46ce-9bce-fb7e21eda6ff",
     "showTitle": false,
     "title": ""
    }
   },
   "source": [
    "##### To get referential table changes - we need to filter out if change has happened for a certain id. \n",
    "We can use the below to filter out :-\n",
    "- coalesce(address._commit_version, info._commit_version) as changed_commit"
   ]
  },
  {
   "cell_type": "code",
   "execution_count": 0,
   "metadata": {
    "application/vnd.databricks.v1+cell": {
     "cellMetadata": {
      "byteLimit": 2048000,
      "rowLimit": 10000
     },
     "inputWidgets": {},
     "nuid": "9a5c424c-143c-44db-9c6e-742d54bcdb48",
     "showTitle": false,
     "title": ""
    }
   },
   "outputs": [
    {
     "output_type": "display_data",
     "data": {
      "text/html": [
       "<style scoped>\n",
       "  .table-result-container {\n",
       "    max-height: 300px;\n",
       "    overflow: auto;\n",
       "  }\n",
       "  table, th, td {\n",
       "    border: 1px solid black;\n",
       "    border-collapse: collapse;\n",
       "  }\n",
       "  th, td {\n",
       "    padding: 5px;\n",
       "  }\n",
       "  th {\n",
       "    text-align: left;\n",
       "  }\n",
       "</style><div class='table-result-container'><table class='table-result'><thead style='background-color: white'><tr><th>id</th><th>employee_id</th><th>first_name</th><th>last_name</th><th>email</th><th>city</th><th>region</th><th>street_address</th><th>country</th><th>salary</th><th>is_fte</th><th>is_remote</th><th>employment_date</th><th>employee_create_update_date</th><th>address_create_update_date</th><th>info_create_update_date</th><th>address_commit_version</th><th>info_commit_version</th><th>employee_commit_version</th><th>valid_flag</th><th>valid_from</th><th>valid_to</th><th>changed_commit</th></tr></thead><tbody><tr><td>be613e2a8166f377f65967bd9073188d</td><td>102</td><td>Lex</td><td>De Haan</td><td>lex.de-haan@contoso.com</td><td>Lille</td><td>ële-de-France</td><td>789 Rue de la Paix</td><td>France</td><td>8000</td><td>true</td><td>false</td><td>2021-03-22</td><td>2023-04-07</td><td>2023-07-15</td><td>2023-07-15</td><td>2</td><td>3</td><td>null</td><td>1</td><td>2023-07-15T00:00:00.000+0000</td><td>9999-12-31T00:00:00.000+0000</td><td>2</td></tr><tr><td>5a60257eabea5111d4e8aa0cf56fb109</td><td>103</td><td>Alexander</td><td>Hunold</td><td>alexander.hunold@contoso.com</td><td>null</td><td>null</td><td>null</td><td>null</td><td>7000</td><td>true</td><td>true</td><td>2018-11-30</td><td>2023-02-24</td><td>null</td><td>2023-07-10</td><td>null</td><td>2</td><td>null</td><td>1</td><td>2023-07-10T00:00:00.000+0000</td><td>9999-12-31T00:00:00.000+0000</td><td>2</td></tr><tr><td>014830e89472a8ac527a5c6b2c1e5fe5</td><td>100</td><td>Steven</td><td>King</td><td>steven.king@contoso.com</td><td>New York</td><td>NY</td><td>456 Baker Street</td><td>United States</td><td>null</td><td>null</td><td>null</td><td>null</td><td>2023-01-27</td><td>2023-07-13</td><td>null</td><td>4</td><td>null</td><td>null</td><td>1</td><td>2023-07-13T00:00:00.000+0000</td><td>9999-12-31T00:00:00.000+0000</td><td>4</td></tr><tr><td>3b2c89840dc66c48dedbbb8ecac15ada</td><td>104</td><td>Bruce</td><td>Ernst</td><td>bruce.ernst@contoso.com</td><td>NewCastle</td><td>NSW</td><td>456 George St</td><td>Australia</td><td>5800</td><td>false</td><td>false</td><td>2017-09-12</td><td>2023-04-24</td><td>2023-07-14</td><td>2023-07-14</td><td>3</td><td>4</td><td>null</td><td>1</td><td>2023-07-14T00:00:00.000+0000</td><td>9999-12-31T00:00:00.000+0000</td><td>3</td></tr></tbody></table></div>"
      ]
     },
     "metadata": {
      "application/vnd.databricks.v1+output": {
       "addedWidgets": {},
       "aggData": [],
       "aggError": "",
       "aggOverflow": false,
       "aggSchema": [],
       "aggSeriesLimitReached": false,
       "aggType": "",
       "arguments": {},
       "columnCustomDisplayInfos": {},
       "data": [
        [
         "be613e2a8166f377f65967bd9073188d",
         102,
         "Lex",
         "De Haan",
         "lex.de-haan@contoso.com",
         "Lille",
         "ële-de-France",
         "789 Rue de la Paix",
         "France",
         8000,
         true,
         false,
         "2021-03-22",
         "2023-04-07",
         "2023-07-15",
         "2023-07-15",
         2,
         3,
         null,
         1,
         "2023-07-15T00:00:00.000+0000",
         "9999-12-31T00:00:00.000+0000",
         2
        ],
        [
         "5a60257eabea5111d4e8aa0cf56fb109",
         103,
         "Alexander",
         "Hunold",
         "alexander.hunold@contoso.com",
         null,
         null,
         null,
         null,
         7000,
         true,
         true,
         "2018-11-30",
         "2023-02-24",
         null,
         "2023-07-10",
         null,
         2,
         null,
         1,
         "2023-07-10T00:00:00.000+0000",
         "9999-12-31T00:00:00.000+0000",
         2
        ],
        [
         "014830e89472a8ac527a5c6b2c1e5fe5",
         100,
         "Steven",
         "King",
         "steven.king@contoso.com",
         "New York",
         "NY",
         "456 Baker Street",
         "United States",
         null,
         null,
         null,
         null,
         "2023-01-27",
         "2023-07-13",
         null,
         4,
         null,
         null,
         1,
         "2023-07-13T00:00:00.000+0000",
         "9999-12-31T00:00:00.000+0000",
         4
        ],
        [
         "3b2c89840dc66c48dedbbb8ecac15ada",
         104,
         "Bruce",
         "Ernst",
         "bruce.ernst@contoso.com",
         "NewCastle",
         "NSW",
         "456 George St",
         "Australia",
         5800,
         false,
         false,
         "2017-09-12",
         "2023-04-24",
         "2023-07-14",
         "2023-07-14",
         3,
         4,
         null,
         1,
         "2023-07-14T00:00:00.000+0000",
         "9999-12-31T00:00:00.000+0000",
         3
        ]
       ],
       "datasetInfos": [],
       "dbfsResultPath": null,
       "isJsonSchema": true,
       "metadata": {},
       "overflow": false,
       "plotOptions": {
        "customPlotOptions": {},
        "displayType": "table",
        "pivotAggregation": null,
        "pivotColumns": null,
        "xColumns": null,
        "yColumns": null
       },
       "removedWidgets": [],
       "schema": [
        {
         "metadata": "{}",
         "name": "id",
         "type": "\"string\""
        },
        {
         "metadata": "{}",
         "name": "employee_id",
         "type": "\"integer\""
        },
        {
         "metadata": "{}",
         "name": "first_name",
         "type": "\"string\""
        },
        {
         "metadata": "{}",
         "name": "last_name",
         "type": "\"string\""
        },
        {
         "metadata": "{}",
         "name": "email",
         "type": "\"string\""
        },
        {
         "metadata": "{}",
         "name": "city",
         "type": "\"string\""
        },
        {
         "metadata": "{}",
         "name": "region",
         "type": "\"string\""
        },
        {
         "metadata": "{}",
         "name": "street_address",
         "type": "\"string\""
        },
        {
         "metadata": "{}",
         "name": "country",
         "type": "\"string\""
        },
        {
         "metadata": "{}",
         "name": "salary",
         "type": "\"integer\""
        },
        {
         "metadata": "{}",
         "name": "is_fte",
         "type": "\"boolean\""
        },
        {
         "metadata": "{}",
         "name": "is_remote",
         "type": "\"boolean\""
        },
        {
         "metadata": "{}",
         "name": "employment_date",
         "type": "\"date\""
        },
        {
         "metadata": "{}",
         "name": "employee_create_update_date",
         "type": "\"date\""
        },
        {
         "metadata": "{}",
         "name": "address_create_update_date",
         "type": "\"date\""
        },
        {
         "metadata": "{}",
         "name": "info_create_update_date",
         "type": "\"date\""
        },
        {
         "metadata": "{}",
         "name": "address_commit_version",
         "type": "\"long\""
        },
        {
         "metadata": "{}",
         "name": "info_commit_version",
         "type": "\"long\""
        },
        {
         "metadata": "{}",
         "name": "employee_commit_version",
         "type": "\"string\""
        },
        {
         "metadata": "{}",
         "name": "valid_flag",
         "type": "\"integer\""
        },
        {
         "metadata": "{}",
         "name": "valid_from",
         "type": "\"timestamp\""
        },
        {
         "metadata": "{}",
         "name": "valid_to",
         "type": "\"timestamp\""
        },
        {
         "metadata": "{}",
         "name": "changed_commit",
         "type": "\"long\""
        }
       ],
       "type": "table"
      }
     },
     "output_type": "display_data"
    }
   ],
   "source": [
    "from pyspark.sql.functions import get_json_object, udf, lit, col\n",
    "\n",
    "referential_changes_employee_df = spark.sql(\"\"\"\n",
    "                        select \n",
    "                        md5(concat(employee.employee_id,employee.first_name,employee.last_name,employee.email,employee.employee_create_update_date)) as id,\n",
    "                        employee.employee_id,\n",
    "                        employee.first_name,\n",
    "                        employee.last_name,\n",
    "                        employee.email,\n",
    "                        address.city,\n",
    "                        address.region,\n",
    "                        address.street_address,\n",
    "                        address.country,\n",
    "                        info.salary,\n",
    "                        info.is_fte,\n",
    "                        info.is_remote,\n",
    "                        info.employment_date,\n",
    "                        employee.employee_create_update_date as employee_create_update_date,\n",
    "                        address.create_update_date as address_create_update_date,\n",
    "                        info.create_update_date as info_create_update_date,\n",
    "                        address._commit_version as address_commit_version,\n",
    "                        info._commit_version as info_commit_version,\n",
    "\n",
    "                        --we dont consider changes from driving table\n",
    "                        String(null) as employee_commit_version,\n",
    "\n",
    "                        --scd columns\n",
    "                        int(1) as valid_flag,  --set as 1 as latest update\n",
    "                        case when address._commit_version is not null then timestamp(address.create_update_date) else timestamp(info.create_update_date) END as valid_from, \n",
    "                        --- if it's a change from address table, then use address.DT \n",
    "                        --- as this update is valid from when that address's record was updated\n",
    "                        ---otherwise info table\n",
    "\n",
    "                        timestamp(\"9999-12-31\") as valid_to, --set as latest record\n",
    "                        coalesce(address._commit_version, info._commit_version) as changed_commit ---used for filtering records if there is an update from either address or info table\n",
    "\n",
    "                        --scd columns \n",
    "                        from `default`.target_employee employee  ---read the entire employee table to get all employee ids\n",
    "\n",
    "                        ---we do left join instead of inner join to get all changes.\n",
    "                        ---there can be ids that changed for info table but didnt change for address table\n",
    "\n",
    "                        left join changes_address address on employee.employee_id=address.employee_id\n",
    "                        left join changes_information info on employee.employee_id=info.employee_id\n",
    "                        where employee.valid_flag=1 --- get all employee ids where valid_flag=1\n",
    "                        \"\"\")\n",
    "\n",
    "referential_changes_employee_df.createOrReplaceTempView(\"referential_changes_employee\")\n",
    "display(referential_changes_employee_df.filter(col(\"changed_commit\").isNotNull()))\n",
    "\n",
    "\n",
    "##ids - [100,102,104,108]"
   ]
  },
  {
   "cell_type": "markdown",
   "metadata": {
    "application/vnd.databricks.v1+cell": {
     "cellMetadata": {},
     "inputWidgets": {},
     "nuid": "ddeddf3c-2205-4281-8b0e-43fbcbaa26e4",
     "showTitle": false,
     "title": ""
    }
   },
   "source": [
    "#### Create Driving table changes df - read only changes from driving table -employee"
   ]
  },
  {
   "cell_type": "code",
   "execution_count": 0,
   "metadata": {
    "application/vnd.databricks.v1+cell": {
     "cellMetadata": {
      "byteLimit": 2048000,
      "rowLimit": 10000
     },
     "inputWidgets": {},
     "nuid": "789eccd4-9874-47bd-9039-0cfb7742fcd9",
     "showTitle": false,
     "title": ""
    }
   },
   "outputs": [
    {
     "output_type": "display_data",
     "data": {
      "text/html": [
       "<style scoped>\n",
       "  .table-result-container {\n",
       "    max-height: 300px;\n",
       "    overflow: auto;\n",
       "  }\n",
       "  table, th, td {\n",
       "    border: 1px solid black;\n",
       "    border-collapse: collapse;\n",
       "  }\n",
       "  th, td {\n",
       "    padding: 5px;\n",
       "  }\n",
       "  th {\n",
       "    text-align: left;\n",
       "  }\n",
       "</style><div class='table-result-container'><table class='table-result'><thead style='background-color: white'><tr><th>id</th><th>employee_id</th><th>first_name</th><th>last_name</th><th>email</th><th>city</th><th>region</th><th>street_address</th><th>country</th><th>salary</th><th>is_fte</th><th>is_remote</th><th>employment_date</th><th>employee_create_update_date</th><th>address_create_update_date</th><th>info_create_update_date</th><th>address_commit_version</th><th>info_commit_version</th><th>employee_commit_version</th><th>valid_flag</th><th>valid_from</th><th>valid_to</th><th>changed_commit</th></tr></thead><tbody><tr><td>08f663dec02e58679ba6e6af5cf67882</td><td>100</td><td>Steven3</td><td>King</td><td>steven.king@contoso.com</td><td>New York</td><td>NY</td><td>456 Baker Street</td><td>United States</td><td>null</td><td>null</td><td>null</td><td>null</td><td>2023-07-17</td><td>2023-07-13</td><td>null</td><td>4</td><td>null</td><td>4</td><td>1</td><td>2023-07-17T00:00:00.000+0000</td><td>9999-12-31T00:00:00.000+0000</td><td>4</td></tr><tr><td>5e64f88f256b598f6c8a801b8d560285</td><td>100</td><td>Steven2</td><td>King</td><td>steven.king@contoso.com</td><td>New York</td><td>NY</td><td>456 Baker Street</td><td>United States</td><td>null</td><td>null</td><td>null</td><td>null</td><td>2023-07-13</td><td>2023-07-13</td><td>null</td><td>4</td><td>null</td><td>3</td><td>1</td><td>2023-07-13T00:00:00.000+0000</td><td>9999-12-31T00:00:00.000+0000</td><td>3</td></tr><tr><td>523d25c653e123eafe592d1dc8792ca1</td><td>300</td><td>John</td><td>Doe</td><td>john.doe</td><td>null</td><td>null</td><td>null</td><td>null</td><td>null</td><td>null</td><td>null</td><td>null</td><td>2023-04-04</td><td>null</td><td>null</td><td>null</td><td>null</td><td>2</td><td>1</td><td>2023-04-04T00:00:00.000+0000</td><td>9999-12-31T00:00:00.000+0000</td><td>2</td></tr></tbody></table></div>"
      ]
     },
     "metadata": {
      "application/vnd.databricks.v1+output": {
       "addedWidgets": {},
       "aggData": [],
       "aggError": "",
       "aggOverflow": false,
       "aggSchema": [],
       "aggSeriesLimitReached": false,
       "aggType": "",
       "arguments": {},
       "columnCustomDisplayInfos": {},
       "data": [
        [
         "08f663dec02e58679ba6e6af5cf67882",
         100,
         "Steven3",
         "King",
         "steven.king@contoso.com",
         "New York",
         "NY",
         "456 Baker Street",
         "United States",
         null,
         null,
         null,
         null,
         "2023-07-17",
         "2023-07-13",
         null,
         4,
         null,
         4,
         1,
         "2023-07-17T00:00:00.000+0000",
         "9999-12-31T00:00:00.000+0000",
         4
        ],
        [
         "5e64f88f256b598f6c8a801b8d560285",
         100,
         "Steven2",
         "King",
         "steven.king@contoso.com",
         "New York",
         "NY",
         "456 Baker Street",
         "United States",
         null,
         null,
         null,
         null,
         "2023-07-13",
         "2023-07-13",
         null,
         4,
         null,
         3,
         1,
         "2023-07-13T00:00:00.000+0000",
         "9999-12-31T00:00:00.000+0000",
         3
        ],
        [
         "523d25c653e123eafe592d1dc8792ca1",
         300,
         "John",
         "Doe",
         "john.doe",
         null,
         null,
         null,
         null,
         null,
         null,
         null,
         null,
         "2023-04-04",
         null,
         null,
         null,
         null,
         2,
         1,
         "2023-04-04T00:00:00.000+0000",
         "9999-12-31T00:00:00.000+0000",
         2
        ]
       ],
       "datasetInfos": [],
       "dbfsResultPath": null,
       "isJsonSchema": true,
       "metadata": {},
       "overflow": false,
       "plotOptions": {
        "customPlotOptions": {},
        "displayType": "table",
        "pivotAggregation": null,
        "pivotColumns": null,
        "xColumns": null,
        "yColumns": null
       },
       "removedWidgets": [],
       "schema": [
        {
         "metadata": "{}",
         "name": "id",
         "type": "\"string\""
        },
        {
         "metadata": "{}",
         "name": "employee_id",
         "type": "\"integer\""
        },
        {
         "metadata": "{}",
         "name": "first_name",
         "type": "\"string\""
        },
        {
         "metadata": "{}",
         "name": "last_name",
         "type": "\"string\""
        },
        {
         "metadata": "{}",
         "name": "email",
         "type": "\"string\""
        },
        {
         "metadata": "{}",
         "name": "city",
         "type": "\"string\""
        },
        {
         "metadata": "{}",
         "name": "region",
         "type": "\"string\""
        },
        {
         "metadata": "{}",
         "name": "street_address",
         "type": "\"string\""
        },
        {
         "metadata": "{}",
         "name": "country",
         "type": "\"string\""
        },
        {
         "metadata": "{}",
         "name": "salary",
         "type": "\"integer\""
        },
        {
         "metadata": "{}",
         "name": "is_fte",
         "type": "\"boolean\""
        },
        {
         "metadata": "{}",
         "name": "is_remote",
         "type": "\"boolean\""
        },
        {
         "metadata": "{}",
         "name": "employment_date",
         "type": "\"date\""
        },
        {
         "metadata": "{}",
         "name": "employee_create_update_date",
         "type": "\"date\""
        },
        {
         "metadata": "{}",
         "name": "address_create_update_date",
         "type": "\"date\""
        },
        {
         "metadata": "{}",
         "name": "info_create_update_date",
         "type": "\"date\""
        },
        {
         "metadata": "{}",
         "name": "address_commit_version",
         "type": "\"long\""
        },
        {
         "metadata": "{}",
         "name": "info_commit_version",
         "type": "\"long\""
        },
        {
         "metadata": "{}",
         "name": "employee_commit_version",
         "type": "\"long\""
        },
        {
         "metadata": "{}",
         "name": "valid_flag",
         "type": "\"integer\""
        },
        {
         "metadata": "{}",
         "name": "valid_from",
         "type": "\"timestamp\""
        },
        {
         "metadata": "{}",
         "name": "valid_to",
         "type": "\"timestamp\""
        },
        {
         "metadata": "{}",
         "name": "changed_commit",
         "type": "\"long\""
        }
       ],
       "type": "table"
      }
     },
     "output_type": "display_data"
    }
   ],
   "source": [
    "from pyspark.sql.functions import get_json_object, udf, lit, col\n",
    "\n",
    "driving_changes_employee_df = spark.sql(\"\"\"\n",
    "                        select \n",
    "                        md5(concat(employee.employee_id,employee.first_name,employee.last_name,employee.email,employee.create_update_date)) as id,\n",
    "                        employee.employee_id,\n",
    "                        employee.first_name,\n",
    "                        employee.last_name,\n",
    "                        employee.email,\n",
    "                        address.city,\n",
    "                        address.region,\n",
    "                        address.street_address,\n",
    "                        address.country,\n",
    "\n",
    "                        info.salary,\n",
    "                        info.is_fte,\n",
    "                        info.is_remote,\n",
    "                        info.employment_date,\n",
    "\n",
    "                        employee.create_update_date as employee_create_update_date,\n",
    "                        address.create_update_date as address_create_update_date,\n",
    "                        info.create_update_date as info_create_update_date,\n",
    "                        address._commit_version as address_commit_version,\n",
    "                        info._commit_version as info_commit_version,\n",
    "                        employee._commit_version as employee_commit_version,\n",
    "\n",
    "                        ---scd columns\n",
    "                        int(1) as valid_flag,\n",
    "                        timestamp(employee.create_update_date) as valid_from,\n",
    "                        timestamp(\"9999-12-31\") as valid_to,\n",
    "                        employee._commit_version as changed_commit\n",
    "\n",
    "                        ---scd columns\n",
    "                        from changes_employee employee  ---read the entire employee table to get employee ids\n",
    "                        left join changes_address address on employee.employee_id=address.employee_id\n",
    "                        left join changes_information info on employee.employee_id=info.employee_id\n",
    "                        \"\"\")\n",
    "\n",
    "driving_changes_employee_df.createOrReplaceTempView(\"driving_changes_employee\")\n",
    "display(driving_changes_employee_df.filter(col(\"changed_commit\").isNotNull()))\n",
    "\n",
    "##ids - [100,300]"
   ]
  },
  {
   "cell_type": "markdown",
   "metadata": {
    "application/vnd.databricks.v1+cell": {
     "cellMetadata": {},
     "inputWidgets": {},
     "nuid": "19b18640-5827-4da5-a08d-f80136189718",
     "showTitle": false,
     "title": ""
    }
   },
   "source": [
    "#### union referential and driving table changes to get all the changes together"
   ]
  },
  {
   "cell_type": "code",
   "execution_count": 0,
   "metadata": {
    "application/vnd.databricks.v1+cell": {
     "cellMetadata": {
      "byteLimit": 2048000,
      "implicitDf": true,
      "rowLimit": 10000
     },
     "inputWidgets": {},
     "nuid": "27ebfde2-3000-4f58-9c4f-f797501901b9",
     "showTitle": false,
     "title": ""
    }
   },
   "outputs": [
    {
     "output_type": "display_data",
     "data": {
      "text/html": [
       "<style scoped>\n",
       "  .table-result-container {\n",
       "    max-height: 300px;\n",
       "    overflow: auto;\n",
       "  }\n",
       "  table, th, td {\n",
       "    border: 1px solid black;\n",
       "    border-collapse: collapse;\n",
       "  }\n",
       "  th, td {\n",
       "    padding: 5px;\n",
       "  }\n",
       "  th {\n",
       "    text-align: left;\n",
       "  }\n",
       "</style><div class='table-result-container'><table class='table-result'><thead style='background-color: white'><tr></tr></thead><tbody></tbody></table></div>"
      ]
     },
     "metadata": {
      "application/vnd.databricks.v1+output": {
       "addedWidgets": {},
       "aggData": [],
       "aggError": "",
       "aggOverflow": false,
       "aggSchema": [],
       "aggSeriesLimitReached": false,
       "aggType": "",
       "arguments": {},
       "columnCustomDisplayInfos": {},
       "data": [],
       "datasetInfos": [],
       "dbfsResultPath": null,
       "isJsonSchema": true,
       "metadata": {},
       "overflow": false,
       "plotOptions": {
        "customPlotOptions": {},
        "displayType": "table",
        "pivotAggregation": null,
        "pivotColumns": null,
        "xColumns": null,
        "yColumns": null
       },
       "removedWidgets": [],
       "schema": [],
       "type": "table"
      }
     },
     "output_type": "display_data"
    }
   ],
   "source": [
    "%sql\n",
    "create or replace temp view changes_employee_target as\n",
    "select * from driving_changes_employee where changed_commit is not null \n",
    "union\n",
    "select * from referential_changes_employee where changed_commit is not null "
   ]
  },
  {
   "cell_type": "code",
   "execution_count": 0,
   "metadata": {
    "application/vnd.databricks.v1+cell": {
     "cellMetadata": {
      "byteLimit": 2048000,
      "implicitDf": true,
      "rowLimit": 10000
     },
     "inputWidgets": {},
     "nuid": "0113a1b3-7543-40c6-8d8a-02a746e7eaa1",
     "showTitle": false,
     "title": ""
    }
   },
   "outputs": [
    {
     "output_type": "display_data",
     "data": {
      "text/html": [
       "<style scoped>\n",
       "  .table-result-container {\n",
       "    max-height: 300px;\n",
       "    overflow: auto;\n",
       "  }\n",
       "  table, th, td {\n",
       "    border: 1px solid black;\n",
       "    border-collapse: collapse;\n",
       "  }\n",
       "  th, td {\n",
       "    padding: 5px;\n",
       "  }\n",
       "  th {\n",
       "    text-align: left;\n",
       "  }\n",
       "</style><div class='table-result-container'><table class='table-result'><thead style='background-color: white'><tr><th>id</th><th>employee_id</th><th>first_name</th><th>last_name</th><th>email</th><th>city</th><th>region</th><th>street_address</th><th>country</th><th>salary</th><th>is_fte</th><th>is_remote</th><th>employment_date</th><th>employee_create_update_date</th><th>address_create_update_date</th><th>info_create_update_date</th><th>address_commit_version</th><th>info_commit_version</th><th>employee_commit_version</th><th>valid_flag</th><th>valid_from</th><th>valid_to</th><th>changed_commit</th></tr></thead><tbody><tr><td>08f663dec02e58679ba6e6af5cf67882</td><td>100</td><td>Steven3</td><td>King</td><td>steven.king@contoso.com</td><td>New York</td><td>NY</td><td>456 Baker Street</td><td>United States</td><td>null</td><td>null</td><td>null</td><td>null</td><td>2023-07-17</td><td>2023-07-13</td><td>null</td><td>4</td><td>null</td><td>4</td><td>1</td><td>2023-07-17T00:00:00.000+0000</td><td>9999-12-31T00:00:00.000+0000</td><td>4</td></tr><tr><td>5e64f88f256b598f6c8a801b8d560285</td><td>100</td><td>Steven2</td><td>King</td><td>steven.king@contoso.com</td><td>New York</td><td>NY</td><td>456 Baker Street</td><td>United States</td><td>null</td><td>null</td><td>null</td><td>null</td><td>2023-07-13</td><td>2023-07-13</td><td>null</td><td>4</td><td>null</td><td>3</td><td>1</td><td>2023-07-13T00:00:00.000+0000</td><td>9999-12-31T00:00:00.000+0000</td><td>3</td></tr><tr><td>014830e89472a8ac527a5c6b2c1e5fe5</td><td>100</td><td>Steven</td><td>King</td><td>steven.king@contoso.com</td><td>New York</td><td>NY</td><td>456 Baker Street</td><td>United States</td><td>null</td><td>null</td><td>null</td><td>null</td><td>2023-01-27</td><td>2023-07-13</td><td>null</td><td>4</td><td>null</td><td>null</td><td>1</td><td>2023-07-13T00:00:00.000+0000</td><td>9999-12-31T00:00:00.000+0000</td><td>4</td></tr></tbody></table></div>"
      ]
     },
     "metadata": {
      "application/vnd.databricks.v1+output": {
       "addedWidgets": {},
       "aggData": [],
       "aggError": "",
       "aggOverflow": false,
       "aggSchema": [],
       "aggSeriesLimitReached": false,
       "aggType": "",
       "arguments": {},
       "columnCustomDisplayInfos": {},
       "data": [
        [
         "08f663dec02e58679ba6e6af5cf67882",
         100,
         "Steven3",
         "King",
         "steven.king@contoso.com",
         "New York",
         "NY",
         "456 Baker Street",
         "United States",
         null,
         null,
         null,
         null,
         "2023-07-17",
         "2023-07-13",
         null,
         4,
         null,
         "4",
         1,
         "2023-07-17T00:00:00.000+0000",
         "9999-12-31T00:00:00.000+0000",
         4
        ],
        [
         "5e64f88f256b598f6c8a801b8d560285",
         100,
         "Steven2",
         "King",
         "steven.king@contoso.com",
         "New York",
         "NY",
         "456 Baker Street",
         "United States",
         null,
         null,
         null,
         null,
         "2023-07-13",
         "2023-07-13",
         null,
         4,
         null,
         "3",
         1,
         "2023-07-13T00:00:00.000+0000",
         "9999-12-31T00:00:00.000+0000",
         3
        ],
        [
         "014830e89472a8ac527a5c6b2c1e5fe5",
         100,
         "Steven",
         "King",
         "steven.king@contoso.com",
         "New York",
         "NY",
         "456 Baker Street",
         "United States",
         null,
         null,
         null,
         null,
         "2023-01-27",
         "2023-07-13",
         null,
         4,
         null,
         null,
         1,
         "2023-07-13T00:00:00.000+0000",
         "9999-12-31T00:00:00.000+0000",
         4
        ]
       ],
       "datasetInfos": [],
       "dbfsResultPath": null,
       "isJsonSchema": true,
       "metadata": {},
       "overflow": false,
       "plotOptions": {
        "customPlotOptions": {},
        "displayType": "table",
        "pivotAggregation": null,
        "pivotColumns": null,
        "xColumns": null,
        "yColumns": null
       },
       "removedWidgets": [],
       "schema": [
        {
         "metadata": "{}",
         "name": "id",
         "type": "\"string\""
        },
        {
         "metadata": "{}",
         "name": "employee_id",
         "type": "\"integer\""
        },
        {
         "metadata": "{}",
         "name": "first_name",
         "type": "\"string\""
        },
        {
         "metadata": "{}",
         "name": "last_name",
         "type": "\"string\""
        },
        {
         "metadata": "{}",
         "name": "email",
         "type": "\"string\""
        },
        {
         "metadata": "{}",
         "name": "city",
         "type": "\"string\""
        },
        {
         "metadata": "{}",
         "name": "region",
         "type": "\"string\""
        },
        {
         "metadata": "{}",
         "name": "street_address",
         "type": "\"string\""
        },
        {
         "metadata": "{}",
         "name": "country",
         "type": "\"string\""
        },
        {
         "metadata": "{}",
         "name": "salary",
         "type": "\"integer\""
        },
        {
         "metadata": "{}",
         "name": "is_fte",
         "type": "\"boolean\""
        },
        {
         "metadata": "{}",
         "name": "is_remote",
         "type": "\"boolean\""
        },
        {
         "metadata": "{}",
         "name": "employment_date",
         "type": "\"date\""
        },
        {
         "metadata": "{}",
         "name": "employee_create_update_date",
         "type": "\"date\""
        },
        {
         "metadata": "{}",
         "name": "address_create_update_date",
         "type": "\"date\""
        },
        {
         "metadata": "{}",
         "name": "info_create_update_date",
         "type": "\"date\""
        },
        {
         "metadata": "{}",
         "name": "address_commit_version",
         "type": "\"long\""
        },
        {
         "metadata": "{}",
         "name": "info_commit_version",
         "type": "\"long\""
        },
        {
         "metadata": "{}",
         "name": "employee_commit_version",
         "type": "\"string\""
        },
        {
         "metadata": "{}",
         "name": "valid_flag",
         "type": "\"integer\""
        },
        {
         "metadata": "{}",
         "name": "valid_from",
         "type": "\"timestamp\""
        },
        {
         "metadata": "{}",
         "name": "valid_to",
         "type": "\"timestamp\""
        },
        {
         "metadata": "{}",
         "name": "changed_commit",
         "type": "\"long\""
        }
       ],
       "type": "table"
      }
     },
     "output_type": "display_data"
    }
   ],
   "source": [
    "%sql\n",
    "select * from changes_employee_target where employee_id = '100';"
   ]
  },
  {
   "cell_type": "markdown",
   "metadata": {
    "application/vnd.databricks.v1+cell": {
     "cellMetadata": {},
     "inputWidgets": {},
     "nuid": "dba9cd8b-71a4-4f7d-87fd-ef44c6008430",
     "showTitle": false,
     "title": ""
    }
   },
   "source": [
    "#### We will demonstrate two types of updates \n",
    "- Capturing only latest updates and not retaining historical chain of updates for a id\n",
    "- Capturing the historical chain of updates for in detail analysis"
   ]
  },
  {
   "cell_type": "markdown",
   "metadata": {
    "application/vnd.databricks.v1+cell": {
     "cellMetadata": {},
     "inputWidgets": {},
     "nuid": "50d2c0a1-6ee1-4376-98f3-2a0af35e0b4c",
     "showTitle": false,
     "title": ""
    }
   },
   "source": [
    "#### Method 1: Capture only latest updates: If multiple updates are coming from sources for each record, only take latest\n",
    "- Multiple updates on the same row\n",
    "- The problem is we need to have one unique id in the CDF, so obviously, we can use group by, but we need to pick up the latest changes as well so we do not mess up the order in which the changes were applied. i.e. we want to preserve the same update order from source to target"
   ]
  },
  {
   "cell_type": "code",
   "execution_count": 0,
   "metadata": {
    "application/vnd.databricks.v1+cell": {
     "cellMetadata": {
      "byteLimit": 2048000,
      "rowLimit": 10000
     },
     "inputWidgets": {},
     "nuid": "454bb7bb-f240-4665-b8ab-736b63d83414",
     "showTitle": false,
     "title": ""
    }
   },
   "outputs": [],
   "source": [
    "employee_all_updates = spark.sql(\"\"\" select * from (SELECT *, row_number() over (partition by employee_id order by changed_commit desc) as rank\n",
    "          FROM changes_employee_target) order by employee_id, changed_commit desc\"\"\")\n",
    "\n",
    "##Temp View for all updates\n",
    "employee_all_updates.createOrReplaceTempView(\"employee_all_updates\")\n",
    "employee_latest_updates=spark.sql(\"\"\"select * from employee_all_updates where rank=1\"\"\")\n",
    "employee_old_updates=spark.sql(\"\"\"select * from employee_all_updates where rank>1\"\"\")\n",
    "##latest updates temp view\n",
    "employee_latest_updates.createOrReplaceTempView(\"employee_latest_updates\")"
   ]
  },
  {
   "cell_type": "code",
   "execution_count": 0,
   "metadata": {
    "application/vnd.databricks.v1+cell": {
     "cellMetadata": {
      "byteLimit": 2048000,
      "implicitDf": true,
      "rowLimit": 10000
     },
     "inputWidgets": {},
     "nuid": "d9d15e43-7fa5-4239-a12c-d292fd0b6ebf",
     "showTitle": false,
     "title": ""
    }
   },
   "outputs": [
    {
     "output_type": "display_data",
     "data": {
      "text/html": [
       "<style scoped>\n",
       "  .table-result-container {\n",
       "    max-height: 300px;\n",
       "    overflow: auto;\n",
       "  }\n",
       "  table, th, td {\n",
       "    border: 1px solid black;\n",
       "    border-collapse: collapse;\n",
       "  }\n",
       "  th, td {\n",
       "    padding: 5px;\n",
       "  }\n",
       "  th {\n",
       "    text-align: left;\n",
       "  }\n",
       "</style><div class='table-result-container'><table class='table-result'><thead style='background-color: white'><tr><th>id</th><th>employee_id</th><th>first_name</th><th>last_name</th><th>email</th><th>city</th><th>region</th><th>street_address</th><th>country</th><th>salary</th><th>is_fte</th><th>is_remote</th><th>employment_date</th><th>employee_create_update_date</th><th>address_create_update_date</th><th>info_create_update_date</th><th>address_commit_version</th><th>info_commit_version</th><th>employee_commit_version</th><th>valid_flag</th><th>valid_from</th><th>valid_to</th><th>changed_commit</th><th>rank</th></tr></thead><tbody><tr><td>08f663dec02e58679ba6e6af5cf67882</td><td>100</td><td>Steven3</td><td>King</td><td>steven.king@contoso.com</td><td>New York</td><td>NY</td><td>456 Baker Street</td><td>United States</td><td>null</td><td>null</td><td>null</td><td>null</td><td>2023-07-17</td><td>2023-07-13</td><td>null</td><td>4</td><td>null</td><td>4</td><td>1</td><td>2023-07-17T00:00:00.000+0000</td><td>9999-12-31T00:00:00.000+0000</td><td>4</td><td>1</td></tr><tr><td>be613e2a8166f377f65967bd9073188d</td><td>102</td><td>Lex</td><td>De Haan</td><td>lex.de-haan@contoso.com</td><td>Lille</td><td>ële-de-France</td><td>789 Rue de la Paix</td><td>France</td><td>8000</td><td>true</td><td>false</td><td>2021-03-22</td><td>2023-04-07</td><td>2023-07-15</td><td>2023-07-15</td><td>2</td><td>3</td><td>null</td><td>1</td><td>2023-07-15T00:00:00.000+0000</td><td>9999-12-31T00:00:00.000+0000</td><td>2</td><td>1</td></tr><tr><td>5a60257eabea5111d4e8aa0cf56fb109</td><td>103</td><td>Alexander</td><td>Hunold</td><td>alexander.hunold@contoso.com</td><td>null</td><td>null</td><td>null</td><td>null</td><td>7000</td><td>true</td><td>true</td><td>2018-11-30</td><td>2023-02-24</td><td>null</td><td>2023-07-10</td><td>null</td><td>2</td><td>null</td><td>1</td><td>2023-07-10T00:00:00.000+0000</td><td>9999-12-31T00:00:00.000+0000</td><td>2</td><td>1</td></tr><tr><td>3b2c89840dc66c48dedbbb8ecac15ada</td><td>104</td><td>Bruce</td><td>Ernst</td><td>bruce.ernst@contoso.com</td><td>NewCastle</td><td>NSW</td><td>456 George St</td><td>Australia</td><td>5800</td><td>false</td><td>false</td><td>2017-09-12</td><td>2023-04-24</td><td>2023-07-14</td><td>2023-07-14</td><td>3</td><td>4</td><td>null</td><td>1</td><td>2023-07-14T00:00:00.000+0000</td><td>9999-12-31T00:00:00.000+0000</td><td>3</td><td>1</td></tr><tr><td>523d25c653e123eafe592d1dc8792ca1</td><td>300</td><td>John</td><td>Doe</td><td>john.doe</td><td>null</td><td>null</td><td>null</td><td>null</td><td>null</td><td>null</td><td>null</td><td>null</td><td>2023-04-04</td><td>null</td><td>null</td><td>null</td><td>null</td><td>2</td><td>1</td><td>2023-04-04T00:00:00.000+0000</td><td>9999-12-31T00:00:00.000+0000</td><td>2</td><td>1</td></tr></tbody></table></div>"
      ]
     },
     "metadata": {
      "application/vnd.databricks.v1+output": {
       "addedWidgets": {},
       "aggData": [],
       "aggError": "",
       "aggOverflow": false,
       "aggSchema": [],
       "aggSeriesLimitReached": false,
       "aggType": "",
       "arguments": {},
       "columnCustomDisplayInfos": {},
       "data": [
        [
         "08f663dec02e58679ba6e6af5cf67882",
         100,
         "Steven3",
         "King",
         "steven.king@contoso.com",
         "New York",
         "NY",
         "456 Baker Street",
         "United States",
         null,
         null,
         null,
         null,
         "2023-07-17",
         "2023-07-13",
         null,
         4,
         null,
         "4",
         1,
         "2023-07-17T00:00:00.000+0000",
         "9999-12-31T00:00:00.000+0000",
         4,
         1
        ],
        [
         "be613e2a8166f377f65967bd9073188d",
         102,
         "Lex",
         "De Haan",
         "lex.de-haan@contoso.com",
         "Lille",
         "ële-de-France",
         "789 Rue de la Paix",
         "France",
         8000,
         true,
         false,
         "2021-03-22",
         "2023-04-07",
         "2023-07-15",
         "2023-07-15",
         2,
         3,
         null,
         1,
         "2023-07-15T00:00:00.000+0000",
         "9999-12-31T00:00:00.000+0000",
         2,
         1
        ],
        [
         "5a60257eabea5111d4e8aa0cf56fb109",
         103,
         "Alexander",
         "Hunold",
         "alexander.hunold@contoso.com",
         null,
         null,
         null,
         null,
         7000,
         true,
         true,
         "2018-11-30",
         "2023-02-24",
         null,
         "2023-07-10",
         null,
         2,
         null,
         1,
         "2023-07-10T00:00:00.000+0000",
         "9999-12-31T00:00:00.000+0000",
         2,
         1
        ],
        [
         "3b2c89840dc66c48dedbbb8ecac15ada",
         104,
         "Bruce",
         "Ernst",
         "bruce.ernst@contoso.com",
         "NewCastle",
         "NSW",
         "456 George St",
         "Australia",
         5800,
         false,
         false,
         "2017-09-12",
         "2023-04-24",
         "2023-07-14",
         "2023-07-14",
         3,
         4,
         null,
         1,
         "2023-07-14T00:00:00.000+0000",
         "9999-12-31T00:00:00.000+0000",
         3,
         1
        ],
        [
         "523d25c653e123eafe592d1dc8792ca1",
         300,
         "John",
         "Doe",
         "john.doe",
         null,
         null,
         null,
         null,
         null,
         null,
         null,
         null,
         "2023-04-04",
         null,
         null,
         null,
         null,
         "2",
         1,
         "2023-04-04T00:00:00.000+0000",
         "9999-12-31T00:00:00.000+0000",
         2,
         1
        ]
       ],
       "datasetInfos": [],
       "dbfsResultPath": null,
       "isJsonSchema": true,
       "metadata": {},
       "overflow": false,
       "plotOptions": {
        "customPlotOptions": {},
        "displayType": "table",
        "pivotAggregation": null,
        "pivotColumns": null,
        "xColumns": null,
        "yColumns": null
       },
       "removedWidgets": [],
       "schema": [
        {
         "metadata": "{}",
         "name": "id",
         "type": "\"string\""
        },
        {
         "metadata": "{}",
         "name": "employee_id",
         "type": "\"integer\""
        },
        {
         "metadata": "{}",
         "name": "first_name",
         "type": "\"string\""
        },
        {
         "metadata": "{}",
         "name": "last_name",
         "type": "\"string\""
        },
        {
         "metadata": "{}",
         "name": "email",
         "type": "\"string\""
        },
        {
         "metadata": "{}",
         "name": "city",
         "type": "\"string\""
        },
        {
         "metadata": "{}",
         "name": "region",
         "type": "\"string\""
        },
        {
         "metadata": "{}",
         "name": "street_address",
         "type": "\"string\""
        },
        {
         "metadata": "{}",
         "name": "country",
         "type": "\"string\""
        },
        {
         "metadata": "{}",
         "name": "salary",
         "type": "\"integer\""
        },
        {
         "metadata": "{}",
         "name": "is_fte",
         "type": "\"boolean\""
        },
        {
         "metadata": "{}",
         "name": "is_remote",
         "type": "\"boolean\""
        },
        {
         "metadata": "{}",
         "name": "employment_date",
         "type": "\"date\""
        },
        {
         "metadata": "{}",
         "name": "employee_create_update_date",
         "type": "\"date\""
        },
        {
         "metadata": "{}",
         "name": "address_create_update_date",
         "type": "\"date\""
        },
        {
         "metadata": "{}",
         "name": "info_create_update_date",
         "type": "\"date\""
        },
        {
         "metadata": "{}",
         "name": "address_commit_version",
         "type": "\"long\""
        },
        {
         "metadata": "{}",
         "name": "info_commit_version",
         "type": "\"long\""
        },
        {
         "metadata": "{}",
         "name": "employee_commit_version",
         "type": "\"string\""
        },
        {
         "metadata": "{}",
         "name": "valid_flag",
         "type": "\"integer\""
        },
        {
         "metadata": "{}",
         "name": "valid_from",
         "type": "\"timestamp\""
        },
        {
         "metadata": "{}",
         "name": "valid_to",
         "type": "\"timestamp\""
        },
        {
         "metadata": "{}",
         "name": "changed_commit",
         "type": "\"long\""
        },
        {
         "metadata": "{}",
         "name": "rank",
         "type": "\"integer\""
        }
       ],
       "type": "table"
      }
     },
     "output_type": "display_data"
    }
   ],
   "source": [
    "%sql\n",
    "select * from employee_latest_updates;"
   ]
  },
  {
   "cell_type": "markdown",
   "metadata": {
    "application/vnd.databricks.v1+cell": {
     "cellMetadata": {},
     "inputWidgets": {},
     "nuid": "883f6191-9293-4d3c-a826-d8f467eade8c",
     "showTitle": false,
     "title": ""
    }
   },
   "source": [
    "#### Coalesce with target employee table to capture columns which haven't changed\n",
    "\n",
    "- Because changes for an id can happen in any of the referential tables, when we get the changes, other columns from other tables will show null as nothing changed there\n",
    "- to demonstrate the correct view of the record we coalesce with target employee table to retain values of the other columns\n",
    "- This doesn't cover the edge case scenario : if the actual update is null for a column"
   ]
  },
  {
   "cell_type": "code",
   "execution_count": 0,
   "metadata": {
    "application/vnd.databricks.v1+cell": {
     "cellMetadata": {
      "byteLimit": 2048000,
      "rowLimit": 10000
     },
     "inputWidgets": {},
     "nuid": "d0b1eca4-3df7-4153-8d48-254d91003d9d",
     "showTitle": false,
     "title": ""
    }
   },
   "outputs": [
    {
     "output_type": "display_data",
     "data": {
      "text/html": [
       "<style scoped>\n",
       "  .table-result-container {\n",
       "    max-height: 300px;\n",
       "    overflow: auto;\n",
       "  }\n",
       "  table, th, td {\n",
       "    border: 1px solid black;\n",
       "    border-collapse: collapse;\n",
       "  }\n",
       "  th, td {\n",
       "    padding: 5px;\n",
       "  }\n",
       "  th {\n",
       "    text-align: left;\n",
       "  }\n",
       "</style><div class='table-result-container'><table class='table-result'><thead style='background-color: white'><tr><th>id</th><th>employee_id</th><th>first_name</th><th>last_name</th><th>email</th><th>city</th><th>region</th><th>street_address</th><th>country</th><th>salary</th><th>is_fte</th><th>is_remote</th><th>employment_date</th><th>employee_create_update_date</th><th>address_create_update_date</th><th>info_create_update_date</th><th>address_commit_version</th><th>info_commit_version</th><th>employee_commit_version</th><th>valid_flag</th><th>valid_from</th><th>valid_to</th><th>_commit_version</th></tr></thead><tbody><tr><td>null</td><td>100</td><td>Steven3</td><td>King</td><td>steven.king@contoso.com</td><td>New York</td><td>NY</td><td>456 Baker Street</td><td>United States</td><td>5000</td><td>true</td><td>false</td><td>2020-01-15</td><td>2023-07-17</td><td>2023-07-13</td><td>2023-01-27</td><td>4</td><td>1</td><td>4</td><td>1</td><td>2023-07-17T00:00:00.000+0000</td><td>9999-12-31T00:00:00.000+0000</td><td>4</td></tr><tr><td>null</td><td>102</td><td>Lex</td><td>De Haan</td><td>lex.de-haan@contoso.com</td><td>Lille</td><td>ële-de-France</td><td>789 Rue de la Paix</td><td>France</td><td>8000</td><td>true</td><td>false</td><td>2021-03-22</td><td>2023-04-07</td><td>2023-07-15</td><td>2023-07-15</td><td>2</td><td>3</td><td>1</td><td>1</td><td>2023-07-15T00:00:00.000+0000</td><td>9999-12-31T00:00:00.000+0000</td><td>2</td></tr><tr><td>null</td><td>103</td><td>Alexander</td><td>Hunold</td><td>alexander.hunold@contoso.com</td><td>Tokyo</td><td>Tokyo</td><td>1-2-3 Shibuya</td><td>Japan</td><td>7000</td><td>true</td><td>true</td><td>2018-11-30</td><td>2023-02-24</td><td>2023-02-24</td><td>2023-07-10</td><td>1</td><td>2</td><td>1</td><td>1</td><td>2023-07-10T00:00:00.000+0000</td><td>9999-12-31T00:00:00.000+0000</td><td>2</td></tr><tr><td>null</td><td>104</td><td>Bruce</td><td>Ernst</td><td>bruce.ernst@contoso.com</td><td>NewCastle</td><td>NSW</td><td>456 George St</td><td>Australia</td><td>5800</td><td>false</td><td>false</td><td>2017-09-12</td><td>2023-04-24</td><td>2023-07-14</td><td>2023-07-14</td><td>3</td><td>4</td><td>1</td><td>1</td><td>2023-07-14T00:00:00.000+0000</td><td>9999-12-31T00:00:00.000+0000</td><td>3</td></tr><tr><td>null</td><td>300</td><td>John</td><td>Doe</td><td>john.doe</td><td>null</td><td>null</td><td>null</td><td>null</td><td>null</td><td>null</td><td>null</td><td>null</td><td>2023-04-04</td><td>null</td><td>null</td><td>null</td><td>null</td><td>2</td><td>1</td><td>2023-04-04T00:00:00.000+0000</td><td>9999-12-31T00:00:00.000+0000</td><td>2</td></tr></tbody></table></div>"
      ]
     },
     "metadata": {
      "application/vnd.databricks.v1+output": {
       "addedWidgets": {},
       "aggData": [],
       "aggError": "",
       "aggOverflow": false,
       "aggSchema": [],
       "aggSeriesLimitReached": false,
       "aggType": "",
       "arguments": {},
       "columnCustomDisplayInfos": {},
       "data": [
        [
         null,
         100,
         "Steven3",
         "King",
         "steven.king@contoso.com",
         "New York",
         "NY",
         "456 Baker Street",
         "United States",
         5000,
         true,
         false,
         "2020-01-15",
         "2023-07-17",
         "2023-07-13",
         "2023-01-27",
         4,
         1,
         "4",
         1,
         "2023-07-17T00:00:00.000+0000",
         "9999-12-31T00:00:00.000+0000",
         4
        ],
        [
         null,
         102,
         "Lex",
         "De Haan",
         "lex.de-haan@contoso.com",
         "Lille",
         "ële-de-France",
         "789 Rue de la Paix",
         "France",
         8000,
         true,
         false,
         "2021-03-22",
         "2023-04-07",
         "2023-07-15",
         "2023-07-15",
         2,
         3,
         "1",
         1,
         "2023-07-15T00:00:00.000+0000",
         "9999-12-31T00:00:00.000+0000",
         2
        ],
        [
         null,
         103,
         "Alexander",
         "Hunold",
         "alexander.hunold@contoso.com",
         "Tokyo",
         "Tokyo",
         "1-2-3 Shibuya",
         "Japan",
         7000,
         true,
         true,
         "2018-11-30",
         "2023-02-24",
         "2023-02-24",
         "2023-07-10",
         1,
         2,
         "1",
         1,
         "2023-07-10T00:00:00.000+0000",
         "9999-12-31T00:00:00.000+0000",
         2
        ],
        [
         null,
         104,
         "Bruce",
         "Ernst",
         "bruce.ernst@contoso.com",
         "NewCastle",
         "NSW",
         "456 George St",
         "Australia",
         5800,
         false,
         false,
         "2017-09-12",
         "2023-04-24",
         "2023-07-14",
         "2023-07-14",
         3,
         4,
         "1",
         1,
         "2023-07-14T00:00:00.000+0000",
         "9999-12-31T00:00:00.000+0000",
         3
        ],
        [
         null,
         300,
         "John",
         "Doe",
         "john.doe",
         null,
         null,
         null,
         null,
         null,
         null,
         null,
         null,
         "2023-04-04",
         null,
         null,
         null,
         null,
         "2",
         1,
         "2023-04-04T00:00:00.000+0000",
         "9999-12-31T00:00:00.000+0000",
         2
        ]
       ],
       "datasetInfos": [],
       "dbfsResultPath": null,
       "isJsonSchema": true,
       "metadata": {},
       "overflow": false,
       "plotOptions": {
        "customPlotOptions": {},
        "displayType": "table",
        "pivotAggregation": null,
        "pivotColumns": null,
        "xColumns": null,
        "yColumns": null
       },
       "removedWidgets": [],
       "schema": [
        {
         "metadata": "{}",
         "name": "id",
         "type": "\"string\""
        },
        {
         "metadata": "{}",
         "name": "employee_id",
         "type": "\"integer\""
        },
        {
         "metadata": "{}",
         "name": "first_name",
         "type": "\"string\""
        },
        {
         "metadata": "{}",
         "name": "last_name",
         "type": "\"string\""
        },
        {
         "metadata": "{}",
         "name": "email",
         "type": "\"string\""
        },
        {
         "metadata": "{}",
         "name": "city",
         "type": "\"string\""
        },
        {
         "metadata": "{}",
         "name": "region",
         "type": "\"string\""
        },
        {
         "metadata": "{}",
         "name": "street_address",
         "type": "\"string\""
        },
        {
         "metadata": "{}",
         "name": "country",
         "type": "\"string\""
        },
        {
         "metadata": "{}",
         "name": "salary",
         "type": "\"integer\""
        },
        {
         "metadata": "{}",
         "name": "is_fte",
         "type": "\"boolean\""
        },
        {
         "metadata": "{}",
         "name": "is_remote",
         "type": "\"boolean\""
        },
        {
         "metadata": "{}",
         "name": "employment_date",
         "type": "\"date\""
        },
        {
         "metadata": "{}",
         "name": "employee_create_update_date",
         "type": "\"date\""
        },
        {
         "metadata": "{}",
         "name": "address_create_update_date",
         "type": "\"date\""
        },
        {
         "metadata": "{}",
         "name": "info_create_update_date",
         "type": "\"date\""
        },
        {
         "metadata": "{}",
         "name": "address_commit_version",
         "type": "\"long\""
        },
        {
         "metadata": "{}",
         "name": "info_commit_version",
         "type": "\"long\""
        },
        {
         "metadata": "{}",
         "name": "employee_commit_version",
         "type": "\"string\""
        },
        {
         "metadata": "{}",
         "name": "valid_flag",
         "type": "\"integer\""
        },
        {
         "metadata": "{}",
         "name": "valid_from",
         "type": "\"timestamp\""
        },
        {
         "metadata": "{}",
         "name": "valid_to",
         "type": "\"timestamp\""
        },
        {
         "metadata": "{}",
         "name": "_commit_version",
         "type": "\"long\""
        }
       ],
       "type": "table"
      }
     },
     "output_type": "display_data"
    }
   ],
   "source": [
    "changes_df =spark.sql(\"\"\"\n",
    "                      select \n",
    "                        String(null) as id, --- we will use this value to capture the update of a record using it's natural key which is employee_id\n",
    "                        coalesce(employee_latest_updates.employee_id, target_employee.employee_id) as employee_id,\n",
    "                        coalesce(employee_latest_updates.first_name,target_employee.first_name) as first_name,\n",
    "                        coalesce(employee_latest_updates.last_name, target_employee.last_name) as last_name,\n",
    "                        coalesce(employee_latest_updates.email, target_employee.email) as email,\n",
    "                        coalesce(employee_latest_updates.city, target_employee.city) as city,\n",
    "                        coalesce(employee_latest_updates.region, target_employee.region) as region,\n",
    "                        coalesce(employee_latest_updates.street_address, target_employee.street_address) as street_address,\n",
    "                        coalesce(employee_latest_updates.country, target_employee.country) as country,\n",
    "                        coalesce(employee_latest_updates.salary, target_employee.salary) as salary,\n",
    "                        coalesce(employee_latest_updates.is_fte, target_employee.is_fte) as is_fte,\n",
    "                        coalesce(employee_latest_updates.is_remote, target_employee.is_remote) as is_remote,\n",
    "                        coalesce(employee_latest_updates.employment_date, target_employee.employment_date) as employment_date,\n",
    "                        coalesce(employee_latest_updates.employee_create_update_date, target_employee.employee_create_update_date) as employee_create_update_date,\n",
    "                        coalesce(employee_latest_updates.address_create_update_date, target_employee.address_create_update_date) as address_create_update_date,\n",
    "                        coalesce(employee_latest_updates.info_create_update_date, target_employee.info_create_update_date) as info_create_update_date,\n",
    "                        coalesce(employee_latest_updates.address_commit_version, target_employee.address_commit_version) as address_commit_version,\n",
    "                        coalesce(employee_latest_updates.info_commit_version, target_employee.info_commit_version) as info_commit_version,\n",
    "                        coalesce(employee_latest_updates.employee_commit_version, target_employee.employee_commit_version) as employee_commit_version,\n",
    "\n",
    "                        --scd\n",
    "                        int(1) as valid_flag,\n",
    "\n",
    "                        --- We are combining updates coming from multiple tables.Hence, to identify when the entire record is valid from, we consider greatest date of all changes\n",
    "                        --- we take the greatest of dates into consideration as the last change came on that date \n",
    "                        --- we do lose some history ,as if address change came in earlier\n",
    "                        --- the row is valid from a later date from which employee table change came in\n",
    "                        --- consider id=100, street address changed on 2023-07-13 but name hadn't changed to Steven3 yet (it changed on 2023-07-17)\n",
    "                        --- valid_from of entire record then becomes 2023-07-17 ,as Steven3 is the name change from then and 456 Baker street even though came on 2023-07-13 is still valid from 2023-07-17\n",
    "\n",
    "                        timestamp(coalesce(\n",
    "                            greatest(employee_latest_updates.employee_create_update_date,\n",
    "                            employee_latest_updates.address_create_update_date,\n",
    "                            employee_latest_updates.info_create_update_date), target_employee.valid_from)) as valid_from,\n",
    "\n",
    "                        timestamp(\"9999-12-31\") as valid_to,\n",
    "                        employee_latest_updates.changed_commit as _commit_version\n",
    "\n",
    "                        --scd\n",
    "                        from employee_latest_updates  \n",
    "                        ---we use left join to consider new. inserts as well\n",
    "                        left join `default`.target_employee on employee_latest_updates.employee_id=target_employee.employee_id\n",
    "                      \"\"\")\n",
    "display(changes_df)"
   ]
  },
  {
   "cell_type": "markdown",
   "metadata": {
    "application/vnd.databricks.v1+cell": {
     "cellMetadata": {},
     "inputWidgets": {},
     "nuid": "090675c2-a6f2-4173-b352-b006db077171",
     "showTitle": false,
     "title": ""
    }
   },
   "source": [
    "#### Method 1: Prepare Merge Dataframe"
   ]
  },
  {
   "cell_type": "code",
   "execution_count": 0,
   "metadata": {
    "application/vnd.databricks.v1+cell": {
     "cellMetadata": {
      "byteLimit": 2048000,
      "rowLimit": 10000
     },
     "inputWidgets": {},
     "nuid": "e902546c-75d8-4ee1-821d-fcfdb8ef0cb3",
     "showTitle": false,
     "title": ""
    }
   },
   "outputs": [
    {
     "output_type": "display_data",
     "data": {
      "text/html": [
       "<style scoped>\n",
       "  .table-result-container {\n",
       "    max-height: 300px;\n",
       "    overflow: auto;\n",
       "  }\n",
       "  table, th, td {\n",
       "    border: 1px solid black;\n",
       "    border-collapse: collapse;\n",
       "  }\n",
       "  th, td {\n",
       "    padding: 5px;\n",
       "  }\n",
       "  th {\n",
       "    text-align: left;\n",
       "  }\n",
       "</style><div class='table-result-container'><table class='table-result'><thead style='background-color: white'><tr><th>employee_id</th><th>first_name</th><th>last_name</th><th>email</th><th>city</th><th>region</th><th>street_address</th><th>country</th><th>salary</th><th>is_fte</th><th>is_remote</th><th>employment_date</th><th>employee_create_update_date</th><th>address_create_update_date</th><th>info_create_update_date</th><th>address_commit_version</th><th>info_commit_version</th><th>employee_commit_version</th><th>valid_flag</th><th>valid_from</th><th>valid_to</th><th>_commit_version</th><th>rank</th><th>merge_key</th><th>id</th></tr></thead><tbody><tr><td>100</td><td>Steven</td><td>King</td><td>steven.king@contoso.com</td><td>New York</td><td>NY</td><td>123 Main St</td><td>United States</td><td>5000</td><td>true</td><td>false</td><td>2020-01-15</td><td>2023-01-27</td><td>2023-01-27</td><td>2023-01-27</td><td>1</td><td>1</td><td>1</td><td>1</td><td>2023-01-27T00:00:00.000+0000</td><td>9999-12-31T00:00:00.000+0000</td><td>null</td><td>null</td><td>014830e89472a8ac527a5c6b2c1e5fe5</td><td>014830e89472a8ac527a5c6b2c1e5fe5</td></tr><tr><td>100</td><td>Steven3</td><td>King</td><td>steven.king@contoso.com</td><td>New York</td><td>NY</td><td>456 Baker Street</td><td>United States</td><td>5000</td><td>true</td><td>false</td><td>2020-01-15</td><td>2023-07-17</td><td>2023-07-13</td><td>2023-01-27</td><td>4</td><td>1</td><td>4</td><td>1</td><td>2023-07-17T00:00:00.000+0000</td><td>9999-12-31T00:00:00.000+0000</td><td>4</td><td>1</td><td>null</td><td>014830e89472a8ac527a5c6b2c1e5fe5</td></tr><tr><td>102</td><td>Lex</td><td>De Haan</td><td>lex.de-haan@contoso.com</td><td>Paris</td><td>ële-de-France</td><td>789 Rue de la Paix</td><td>France</td><td>5500</td><td>true</td><td>false</td><td>2021-03-22</td><td>2023-04-07</td><td>2023-04-07</td><td>2023-04-07</td><td>1</td><td>1</td><td>1</td><td>1</td><td>2023-04-07T00:00:00.000+0000</td><td>9999-12-31T00:00:00.000+0000</td><td>null</td><td>null</td><td>be613e2a8166f377f65967bd9073188d</td><td>be613e2a8166f377f65967bd9073188d</td></tr><tr><td>102</td><td>Lex</td><td>De Haan</td><td>lex.de-haan@contoso.com</td><td>Lille</td><td>ële-de-France</td><td>789 Rue de la Paix</td><td>France</td><td>8000</td><td>true</td><td>false</td><td>2021-03-22</td><td>2023-04-07</td><td>2023-07-15</td><td>2023-07-15</td><td>2</td><td>3</td><td>1</td><td>1</td><td>2023-07-15T00:00:00.000+0000</td><td>9999-12-31T00:00:00.000+0000</td><td>2</td><td>1</td><td>null</td><td>be613e2a8166f377f65967bd9073188d</td></tr><tr><td>103</td><td>Alexander</td><td>Hunold</td><td>alexander.hunold@contoso.com</td><td>Tokyo</td><td>Tokyo</td><td>1-2-3 Shibuya</td><td>Japan</td><td>5200</td><td>true</td><td>true</td><td>2018-11-30</td><td>2023-02-24</td><td>2023-02-24</td><td>2023-02-24</td><td>1</td><td>1</td><td>1</td><td>1</td><td>2023-02-24T00:00:00.000+0000</td><td>9999-12-31T00:00:00.000+0000</td><td>null</td><td>null</td><td>5a60257eabea5111d4e8aa0cf56fb109</td><td>5a60257eabea5111d4e8aa0cf56fb109</td></tr><tr><td>103</td><td>Alexander</td><td>Hunold</td><td>alexander.hunold@contoso.com</td><td>Tokyo</td><td>Tokyo</td><td>1-2-3 Shibuya</td><td>Japan</td><td>7000</td><td>true</td><td>true</td><td>2018-11-30</td><td>2023-02-24</td><td>2023-02-24</td><td>2023-07-10</td><td>1</td><td>2</td><td>1</td><td>1</td><td>2023-07-10T00:00:00.000+0000</td><td>9999-12-31T00:00:00.000+0000</td><td>2</td><td>1</td><td>null</td><td>5a60257eabea5111d4e8aa0cf56fb109</td></tr><tr><td>104</td><td>Bruce</td><td>Ernst</td><td>bruce.ernst@contoso.com</td><td>Sydney</td><td>NSW</td><td>456 George St</td><td>Australia</td><td>5800</td><td>true</td><td>false</td><td>2017-09-12</td><td>2023-04-24</td><td>2023-04-24</td><td>2023-04-24</td><td>1</td><td>1</td><td>1</td><td>1</td><td>2023-04-24T00:00:00.000+0000</td><td>9999-12-31T00:00:00.000+0000</td><td>null</td><td>null</td><td>3b2c89840dc66c48dedbbb8ecac15ada</td><td>3b2c89840dc66c48dedbbb8ecac15ada</td></tr><tr><td>104</td><td>Bruce</td><td>Ernst</td><td>bruce.ernst@contoso.com</td><td>NewCastle</td><td>NSW</td><td>456 George St</td><td>Australia</td><td>5800</td><td>false</td><td>false</td><td>2017-09-12</td><td>2023-04-24</td><td>2023-07-14</td><td>2023-07-14</td><td>3</td><td>4</td><td>1</td><td>1</td><td>2023-07-14T00:00:00.000+0000</td><td>9999-12-31T00:00:00.000+0000</td><td>3</td><td>1</td><td>null</td><td>3b2c89840dc66c48dedbbb8ecac15ada</td></tr><tr><td>300</td><td>John</td><td>Doe</td><td>john.doe</td><td>null</td><td>null</td><td>null</td><td>null</td><td>null</td><td>null</td><td>null</td><td>null</td><td>2023-04-04</td><td>null</td><td>null</td><td>null</td><td>null</td><td>2</td><td>1</td><td>2023-04-04T00:00:00.000+0000</td><td>9999-12-31T00:00:00.000+0000</td><td>2</td><td>1</td><td>b8bd1eb9ea11502aca3200866cf29705</td><td>b8bd1eb9ea11502aca3200866cf29705</td></tr></tbody></table></div>"
      ]
     },
     "metadata": {
      "application/vnd.databricks.v1+output": {
       "addedWidgets": {},
       "aggData": [],
       "aggError": "",
       "aggOverflow": false,
       "aggSchema": [],
       "aggSeriesLimitReached": false,
       "aggType": "",
       "arguments": {},
       "columnCustomDisplayInfos": {},
       "data": [
        [
         100,
         "Steven",
         "King",
         "steven.king@contoso.com",
         "New York",
         "NY",
         "123 Main St",
         "United States",
         5000,
         true,
         false,
         "2020-01-15",
         "2023-01-27",
         "2023-01-27",
         "2023-01-27",
         1,
         1,
         "1",
         1,
         "2023-01-27T00:00:00.000+0000",
         "9999-12-31T00:00:00.000+0000",
         null,
         null,
         "014830e89472a8ac527a5c6b2c1e5fe5",
         "014830e89472a8ac527a5c6b2c1e5fe5"
        ],
        [
         100,
         "Steven3",
         "King",
         "steven.king@contoso.com",
         "New York",
         "NY",
         "456 Baker Street",
         "United States",
         5000,
         true,
         false,
         "2020-01-15",
         "2023-07-17",
         "2023-07-13",
         "2023-01-27",
         4,
         1,
         "4",
         1,
         "2023-07-17T00:00:00.000+0000",
         "9999-12-31T00:00:00.000+0000",
         4,
         1,
         null,
         "014830e89472a8ac527a5c6b2c1e5fe5"
        ],
        [
         102,
         "Lex",
         "De Haan",
         "lex.de-haan@contoso.com",
         "Paris",
         "ële-de-France",
         "789 Rue de la Paix",
         "France",
         5500,
         true,
         false,
         "2021-03-22",
         "2023-04-07",
         "2023-04-07",
         "2023-04-07",
         1,
         1,
         "1",
         1,
         "2023-04-07T00:00:00.000+0000",
         "9999-12-31T00:00:00.000+0000",
         null,
         null,
         "be613e2a8166f377f65967bd9073188d",
         "be613e2a8166f377f65967bd9073188d"
        ],
        [
         102,
         "Lex",
         "De Haan",
         "lex.de-haan@contoso.com",
         "Lille",
         "ële-de-France",
         "789 Rue de la Paix",
         "France",
         8000,
         true,
         false,
         "2021-03-22",
         "2023-04-07",
         "2023-07-15",
         "2023-07-15",
         2,
         3,
         "1",
         1,
         "2023-07-15T00:00:00.000+0000",
         "9999-12-31T00:00:00.000+0000",
         2,
         1,
         null,
         "be613e2a8166f377f65967bd9073188d"
        ],
        [
         103,
         "Alexander",
         "Hunold",
         "alexander.hunold@contoso.com",
         "Tokyo",
         "Tokyo",
         "1-2-3 Shibuya",
         "Japan",
         5200,
         true,
         true,
         "2018-11-30",
         "2023-02-24",
         "2023-02-24",
         "2023-02-24",
         1,
         1,
         "1",
         1,
         "2023-02-24T00:00:00.000+0000",
         "9999-12-31T00:00:00.000+0000",
         null,
         null,
         "5a60257eabea5111d4e8aa0cf56fb109",
         "5a60257eabea5111d4e8aa0cf56fb109"
        ],
        [
         103,
         "Alexander",
         "Hunold",
         "alexander.hunold@contoso.com",
         "Tokyo",
         "Tokyo",
         "1-2-3 Shibuya",
         "Japan",
         7000,
         true,
         true,
         "2018-11-30",
         "2023-02-24",
         "2023-02-24",
         "2023-07-10",
         1,
         2,
         "1",
         1,
         "2023-07-10T00:00:00.000+0000",
         "9999-12-31T00:00:00.000+0000",
         2,
         1,
         null,
         "5a60257eabea5111d4e8aa0cf56fb109"
        ],
        [
         104,
         "Bruce",
         "Ernst",
         "bruce.ernst@contoso.com",
         "Sydney",
         "NSW",
         "456 George St",
         "Australia",
         5800,
         true,
         false,
         "2017-09-12",
         "2023-04-24",
         "2023-04-24",
         "2023-04-24",
         1,
         1,
         "1",
         1,
         "2023-04-24T00:00:00.000+0000",
         "9999-12-31T00:00:00.000+0000",
         null,
         null,
         "3b2c89840dc66c48dedbbb8ecac15ada",
         "3b2c89840dc66c48dedbbb8ecac15ada"
        ],
        [
         104,
         "Bruce",
         "Ernst",
         "bruce.ernst@contoso.com",
         "NewCastle",
         "NSW",
         "456 George St",
         "Australia",
         5800,
         false,
         false,
         "2017-09-12",
         "2023-04-24",
         "2023-07-14",
         "2023-07-14",
         3,
         4,
         "1",
         1,
         "2023-07-14T00:00:00.000+0000",
         "9999-12-31T00:00:00.000+0000",
         3,
         1,
         null,
         "3b2c89840dc66c48dedbbb8ecac15ada"
        ],
        [
         300,
         "John",
         "Doe",
         "john.doe",
         null,
         null,
         null,
         null,
         null,
         null,
         null,
         null,
         "2023-04-04",
         null,
         null,
         null,
         null,
         "2",
         1,
         "2023-04-04T00:00:00.000+0000",
         "9999-12-31T00:00:00.000+0000",
         2,
         1,
         "b8bd1eb9ea11502aca3200866cf29705",
         "b8bd1eb9ea11502aca3200866cf29705"
        ]
       ],
       "datasetInfos": [],
       "dbfsResultPath": null,
       "isJsonSchema": true,
       "metadata": {},
       "overflow": false,
       "plotOptions": {
        "customPlotOptions": {},
        "displayType": "table",
        "pivotAggregation": null,
        "pivotColumns": null,
        "xColumns": null,
        "yColumns": null
       },
       "removedWidgets": [],
       "schema": [
        {
         "metadata": "{}",
         "name": "employee_id",
         "type": "\"integer\""
        },
        {
         "metadata": "{}",
         "name": "first_name",
         "type": "\"string\""
        },
        {
         "metadata": "{}",
         "name": "last_name",
         "type": "\"string\""
        },
        {
         "metadata": "{}",
         "name": "email",
         "type": "\"string\""
        },
        {
         "metadata": "{}",
         "name": "city",
         "type": "\"string\""
        },
        {
         "metadata": "{}",
         "name": "region",
         "type": "\"string\""
        },
        {
         "metadata": "{}",
         "name": "street_address",
         "type": "\"string\""
        },
        {
         "metadata": "{}",
         "name": "country",
         "type": "\"string\""
        },
        {
         "metadata": "{}",
         "name": "salary",
         "type": "\"integer\""
        },
        {
         "metadata": "{}",
         "name": "is_fte",
         "type": "\"boolean\""
        },
        {
         "metadata": "{}",
         "name": "is_remote",
         "type": "\"boolean\""
        },
        {
         "metadata": "{}",
         "name": "employment_date",
         "type": "\"date\""
        },
        {
         "metadata": "{}",
         "name": "employee_create_update_date",
         "type": "\"date\""
        },
        {
         "metadata": "{}",
         "name": "address_create_update_date",
         "type": "\"date\""
        },
        {
         "metadata": "{}",
         "name": "info_create_update_date",
         "type": "\"date\""
        },
        {
         "metadata": "{}",
         "name": "address_commit_version",
         "type": "\"long\""
        },
        {
         "metadata": "{}",
         "name": "info_commit_version",
         "type": "\"long\""
        },
        {
         "metadata": "{}",
         "name": "employee_commit_version",
         "type": "\"string\""
        },
        {
         "metadata": "{}",
         "name": "valid_flag",
         "type": "\"integer\""
        },
        {
         "metadata": "{}",
         "name": "valid_from",
         "type": "\"timestamp\""
        },
        {
         "metadata": "{}",
         "name": "valid_to",
         "type": "\"timestamp\""
        },
        {
         "metadata": "{}",
         "name": "_commit_version",
         "type": "\"long\""
        },
        {
         "metadata": "{}",
         "name": "rank",
         "type": "\"integer\""
        },
        {
         "metadata": "{}",
         "name": "merge_key",
         "type": "\"string\""
        },
        {
         "metadata": "{}",
         "name": "id",
         "type": "\"string\""
        }
       ],
       "type": "table"
      }
     },
     "output_type": "display_data"
    }
   ],
   "source": [
    "# This cell prepares a dataframe which will be used to apply the merge statement to take the updates to target_employee table. Key items -\n",
    "# 1. For records which are getting update, add the old records to the dataframe from the delta table employees\n",
    "# 2. For records which are bringing the updates, populate the id column for them. Keep in mind, the id is same as the id of the old records. This is the surrogate key.\n",
    "# 3. For new records, add id column value by using the has function.\n",
    "# 4. Add a new column named merge_key. This column has the same value as the id column, except for the records which are bringing the updates, the merge key is empty. This is done so that the the merge statement we are using later can treat them as new record.\n",
    "\n",
    "from pyspark.sql.functions import *\n",
    "from pyspark.sql import functions as F\n",
    "from pyspark.sql.types import *\n",
    "from pyspark.sql.window import Window\n",
    "\n",
    "# Only keep the latest record for each employee\n",
    "window_spec = Window.partitionBy(\"employee_id\").orderBy(desc(\"_commit_version\"))\n",
    "changes_df = changes_df.withColumn(\"rank\", rank().over(window_spec))\n",
    "changes_df = changes_df.filter(changes_df[\"rank\"] < 2)\n",
    "\n",
    "changed_employee_ids = changes_df.select(collect_list(changes_df['employee_id'])).collect()[0][0]\n",
    "\n",
    "\n",
    "employees_df = spark.read.format(\"delta\").table(\"default.target_employee\")\n",
    "\n",
    "merge_df = changes_df.unionByName(\n",
    "                                    employees_df.where(col(\"EMPLOYEE_ID\").isin(changed_employee_ids)), allowMissingColumns=True\n",
    "                                  )\n",
    "# This done to generate new ids for the brand new incoming records\n",
    "new_employee_ids = merge_df.\\\n",
    "                        groupBy(\"employee_id\").count().where(F.col('count') < 2).\\\n",
    "                        select(collect_list(merge_df['employee_id'])).collect()[0][0]\n",
    "merge_df = merge_df.withColumn(\"merge_key\",\n",
    "                        F.when(F.col('employee_id').isin(new_employee_ids), md5(concat(\"employee_id\",\"first_name\",\"last_name\",\"email\"))).\n",
    "                        otherwise(col('id')))                       \n",
    "\n",
    "# This is done to take the ids for the old records to the updated records\n",
    "window_spec = Window.partitionBy(\"employee_id\").orderBy(desc(\"id\"))\n",
    "merge_df = merge_df.withColumn(\"id2\",\n",
    "                        F.when(F.col('merge_key').isNull(), lag(\"merge_key\",1).over(window_spec)).\n",
    "                        otherwise(col('merge_key')))\n",
    "\n",
    "merge_df = merge_df.drop('id')\n",
    "merge_df = merge_df.withColumnRenamed(\"id2\", \"id\")\n",
    "\n",
    "# merge_df = merge_df.\\\n",
    "#                 where(~F.col('_change_type').eqNullSafe('delete'))\n",
    "\n",
    "display(merge_df)"
   ]
  },
  {
   "cell_type": "markdown",
   "metadata": {
    "application/vnd.databricks.v1+cell": {
     "cellMetadata": {},
     "inputWidgets": {},
     "nuid": "5ce89824-d553-48a0-9a0a-0e652eecc7ab",
     "showTitle": false,
     "title": ""
    }
   },
   "source": [
    "#### Method 1: Apply merge statement"
   ]
  },
  {
   "cell_type": "code",
   "execution_count": 0,
   "metadata": {
    "application/vnd.databricks.v1+cell": {
     "cellMetadata": {
      "byteLimit": 2048000,
      "rowLimit": 10000
     },
     "inputWidgets": {},
     "nuid": "4665658d-8e22-4564-a38f-8b83f3567511",
     "showTitle": false,
     "title": ""
    }
   },
   "outputs": [],
   "source": [
    "# This cell applies the merge statement using the merge dataframe prepared in the previous cell.\n",
    "from delta.tables import *\n",
    "from pyspark.sql.functions import current_timestamp\n",
    "\n",
    "# Recommendation is to use abfss path. This is purely for demonstrative purpose\n",
    "target_employee_table = DeltaTable.forPath(spark, f\"dbfs:/user/hive/warehouse/target_employee\") \n",
    "\n",
    "exec_time = current_timestamp()\n",
    "infinite_end = to_timestamp(lit(\"9999-12-31\"))\n",
    "\n",
    "merge = target_employee_table.alias('employee').merge(merge_df.alias('employee_update'),\n",
    "                                          \"employee.id = employee_update.merge_key\") \\\n",
    "                                        .whenMatchedUpdate(set=\n",
    "                                                           {\n",
    "                                                                \"id\": \"employee_update.id\",\n",
    "                                                                \"FIRST_NAME\": \"employee_update.FIRST_NAME\",\n",
    "                                                                \"EMPLOYEE_ID\": \"employee_update.EMPLOYEE_ID\",\n",
    "                                                                \"LAST_NAME\": \"employee_update.LAST_NAME\",\n",
    "                                                                \"EMAIL\": \"employee_update.EMAIL\",\n",
    "                                                                \"CITY\": \"employee_update.CITY\",\n",
    "                                                                \"REGION\": \"employee_update.REGION\",\n",
    "                                                                \"STREET_ADDRESS\": \"employee_update.STREET_ADDRESS\",\n",
    "                                                                \"COUNTRY\": \"employee_update.COUNTRY\",\n",
    "                                                                \"SALARY\": \"employee_update.SALARY\",\n",
    "                                                                \"IS_FTE\": \"employee_update.IS_FTE\",\n",
    "                                                                \"IS_REMOTE\": \"employee_update.IS_REMOTE\",\n",
    "                                                                \"EMPLOYMENT_DATE\": \"employee_update.EMPLOYMENT_DATE\",\n",
    "                                                                \"employee_create_update_date\": \"employee_update.employee_create_update_date\",\n",
    "                                                                \"address_create_update_date\": \"employee_update.address_create_update_date\",\n",
    "                                                                \"info_create_update_date\": \"employee_update.info_create_update_date\",\n",
    "                                                                \"address_commit_version\": \"employee_update.address_commit_version\",\n",
    "                                                                \"info_commit_version\": \"employee_update.info_commit_version\",\n",
    "                                                                \"employee_commit_version\": \"employee_update.employee_commit_version\",\n",
    "                                                                \"valid_from\": \"employee.valid_from\",\n",
    "                                                                \"valid_to\": exec_time,\n",
    "                                                                \"valid_flag\": lit(0)\n",
    "                                                           }) \\\n",
    "                                        .whenNotMatchedInsert(values=\n",
    "                                                            {\n",
    "                                                                \"id\": \"employee_update.id\",\n",
    "                                                                \"FIRST_NAME\": \"employee_update.FIRST_NAME\",\n",
    "                                                                \"EMPLOYEE_ID\": \"employee_update.EMPLOYEE_ID\",\n",
    "                                                                \"LAST_NAME\": \"employee_update.LAST_NAME\",\n",
    "                                                                \"EMAIL\": \"employee_update.EMAIL\",\n",
    "                                                                \"CITY\": \"employee_update.CITY\",\n",
    "                                                                \"REGION\": \"employee_update.REGION\",\n",
    "                                                                \"STREET_ADDRESS\": \"employee_update.STREET_ADDRESS\",\n",
    "                                                                \"COUNTRY\": \"employee_update.COUNTRY\",\n",
    "                                                                \"SALARY\": \"employee_update.SALARY\",\n",
    "                                                                \"IS_FTE\": \"employee_update.IS_FTE\",\n",
    "                                                                \"IS_REMOTE\": \"employee_update.IS_REMOTE\",\n",
    "                                                                \"EMPLOYMENT_DATE\": \"employee_update.EMPLOYMENT_DATE\",\n",
    "                                                                \"employee_create_update_date\": \"employee_update.employee_create_update_date\",\n",
    "                                                                \"address_create_update_date\": \"employee_update.address_create_update_date\",\n",
    "                                                                \"info_create_update_date\": \"employee_update.info_create_update_date\",\n",
    "                                                                \"address_commit_version\": \"employee_update.address_commit_version\",\n",
    "                                                                \"info_commit_version\": \"employee_update.info_commit_version\",\n",
    "                                                                \"employee_commit_version\": \"employee_update.employee_commit_version\",\n",
    "                                                                \"valid_from\": exec_time,\n",
    "                                                                \"valid_to\": infinite_end,\n",
    "                                                                \"valid_flag\": lit(1)\n",
    "                                                           })\n",
    "\n",
    "merge.execute()"
   ]
  },
  {
   "cell_type": "markdown",
   "metadata": {
    "application/vnd.databricks.v1+cell": {
     "cellMetadata": {},
     "inputWidgets": {},
     "nuid": "ef644745-c8cd-4186-b824-70282a5dc508",
     "showTitle": false,
     "title": ""
    }
   },
   "source": [
    "#### Method 1: Check Results"
   ]
  },
  {
   "cell_type": "code",
   "execution_count": 0,
   "metadata": {
    "application/vnd.databricks.v1+cell": {
     "cellMetadata": {
      "byteLimit": 2048000,
      "implicitDf": true,
      "rowLimit": 10000
     },
     "inputWidgets": {},
     "nuid": "b7ec5858-8194-434f-b512-b2246fa8a856",
     "showTitle": false,
     "title": ""
    }
   },
   "outputs": [
    {
     "output_type": "display_data",
     "data": {
      "text/html": [
       "<style scoped>\n",
       "  .table-result-container {\n",
       "    max-height: 300px;\n",
       "    overflow: auto;\n",
       "  }\n",
       "  table, th, td {\n",
       "    border: 1px solid black;\n",
       "    border-collapse: collapse;\n",
       "  }\n",
       "  th, td {\n",
       "    padding: 5px;\n",
       "  }\n",
       "  th {\n",
       "    text-align: left;\n",
       "  }\n",
       "</style><div class='table-result-container'><table class='table-result'><thead style='background-color: white'><tr><th>id</th><th>employee_id</th><th>first_name</th><th>last_name</th><th>email</th><th>city</th><th>region</th><th>street_address</th><th>country</th><th>salary</th><th>is_fte</th><th>is_remote</th><th>employment_date</th><th>employee_create_update_date</th><th>address_create_update_date</th><th>info_create_update_date</th><th>address_commit_version</th><th>info_commit_version</th><th>employee_commit_version</th><th>valid_flag</th><th>valid_from</th><th>valid_to</th></tr></thead><tbody><tr><td>014830e89472a8ac527a5c6b2c1e5fe5</td><td>100</td><td>Steven</td><td>King</td><td>steven.king@contoso.com</td><td>New York</td><td>NY</td><td>123 Main St</td><td>United States</td><td>5000</td><td>true</td><td>false</td><td>2020-01-15</td><td>2023-01-27</td><td>2023-01-27</td><td>2023-01-27</td><td>1</td><td>1</td><td>1</td><td>0</td><td>2023-01-27</td><td>2023-08-11T12:11:25.988+0000</td></tr><tr><td>014830e89472a8ac527a5c6b2c1e5fe5</td><td>100</td><td>Steven3</td><td>King</td><td>steven.king@contoso.com</td><td>New York</td><td>NY</td><td>456 Baker Street</td><td>United States</td><td>5000</td><td>true</td><td>false</td><td>2020-01-15</td><td>2023-07-17</td><td>2023-07-13</td><td>2023-01-27</td><td>4</td><td>1</td><td>4</td><td>1</td><td>2023-08-11</td><td>9999-12-31T00:00:00.000+0000</td></tr><tr><td>be613e2a8166f377f65967bd9073188d</td><td>102</td><td>Lex</td><td>De Haan</td><td>lex.de-haan@contoso.com</td><td>Paris</td><td>ële-de-France</td><td>789 Rue de la Paix</td><td>France</td><td>5500</td><td>true</td><td>false</td><td>2021-03-22</td><td>2023-04-07</td><td>2023-04-07</td><td>2023-04-07</td><td>1</td><td>1</td><td>1</td><td>0</td><td>2023-04-07</td><td>2023-08-11T12:11:25.988+0000</td></tr><tr><td>be613e2a8166f377f65967bd9073188d</td><td>102</td><td>Lex</td><td>De Haan</td><td>lex.de-haan@contoso.com</td><td>Lille</td><td>ële-de-France</td><td>789 Rue de la Paix</td><td>France</td><td>8000</td><td>true</td><td>false</td><td>2021-03-22</td><td>2023-04-07</td><td>2023-07-15</td><td>2023-07-15</td><td>2</td><td>3</td><td>1</td><td>1</td><td>2023-08-11</td><td>9999-12-31T00:00:00.000+0000</td></tr><tr><td>3b2c89840dc66c48dedbbb8ecac15ada</td><td>104</td><td>Bruce</td><td>Ernst</td><td>bruce.ernst@contoso.com</td><td>Sydney</td><td>NSW</td><td>456 George St</td><td>Australia</td><td>5800</td><td>true</td><td>false</td><td>2017-09-12</td><td>2023-04-24</td><td>2023-04-24</td><td>2023-04-24</td><td>1</td><td>1</td><td>1</td><td>0</td><td>2023-04-24</td><td>2023-08-11T12:11:25.988+0000</td></tr><tr><td>3b2c89840dc66c48dedbbb8ecac15ada</td><td>104</td><td>Bruce</td><td>Ernst</td><td>bruce.ernst@contoso.com</td><td>NewCastle</td><td>NSW</td><td>456 George St</td><td>Australia</td><td>5800</td><td>false</td><td>false</td><td>2017-09-12</td><td>2023-04-24</td><td>2023-07-14</td><td>2023-07-14</td><td>3</td><td>4</td><td>1</td><td>1</td><td>2023-08-11</td><td>9999-12-31T00:00:00.000+0000</td></tr></tbody></table></div>"
      ]
     },
     "metadata": {
      "application/vnd.databricks.v1+output": {
       "addedWidgets": {},
       "aggData": [],
       "aggError": "",
       "aggOverflow": false,
       "aggSchema": [],
       "aggSeriesLimitReached": false,
       "aggType": "",
       "arguments": {},
       "columnCustomDisplayInfos": {},
       "data": [
        [
         "014830e89472a8ac527a5c6b2c1e5fe5",
         100,
         "Steven",
         "King",
         "steven.king@contoso.com",
         "New York",
         "NY",
         "123 Main St",
         "United States",
         5000,
         true,
         false,
         "2020-01-15",
         "2023-01-27",
         "2023-01-27",
         "2023-01-27",
         1,
         1,
         1,
         0,
         "2023-01-27",
         "2023-08-11T12:11:25.988+0000"
        ],
        [
         "014830e89472a8ac527a5c6b2c1e5fe5",
         100,
         "Steven3",
         "King",
         "steven.king@contoso.com",
         "New York",
         "NY",
         "456 Baker Street",
         "United States",
         5000,
         true,
         false,
         "2020-01-15",
         "2023-07-17",
         "2023-07-13",
         "2023-01-27",
         4,
         1,
         4,
         1,
         "2023-08-11",
         "9999-12-31T00:00:00.000+0000"
        ],
        [
         "be613e2a8166f377f65967bd9073188d",
         102,
         "Lex",
         "De Haan",
         "lex.de-haan@contoso.com",
         "Paris",
         "ële-de-France",
         "789 Rue de la Paix",
         "France",
         5500,
         true,
         false,
         "2021-03-22",
         "2023-04-07",
         "2023-04-07",
         "2023-04-07",
         1,
         1,
         1,
         0,
         "2023-04-07",
         "2023-08-11T12:11:25.988+0000"
        ],
        [
         "be613e2a8166f377f65967bd9073188d",
         102,
         "Lex",
         "De Haan",
         "lex.de-haan@contoso.com",
         "Lille",
         "ële-de-France",
         "789 Rue de la Paix",
         "France",
         8000,
         true,
         false,
         "2021-03-22",
         "2023-04-07",
         "2023-07-15",
         "2023-07-15",
         2,
         3,
         1,
         1,
         "2023-08-11",
         "9999-12-31T00:00:00.000+0000"
        ],
        [
         "3b2c89840dc66c48dedbbb8ecac15ada",
         104,
         "Bruce",
         "Ernst",
         "bruce.ernst@contoso.com",
         "Sydney",
         "NSW",
         "456 George St",
         "Australia",
         5800,
         true,
         false,
         "2017-09-12",
         "2023-04-24",
         "2023-04-24",
         "2023-04-24",
         1,
         1,
         1,
         0,
         "2023-04-24",
         "2023-08-11T12:11:25.988+0000"
        ],
        [
         "3b2c89840dc66c48dedbbb8ecac15ada",
         104,
         "Bruce",
         "Ernst",
         "bruce.ernst@contoso.com",
         "NewCastle",
         "NSW",
         "456 George St",
         "Australia",
         5800,
         false,
         false,
         "2017-09-12",
         "2023-04-24",
         "2023-07-14",
         "2023-07-14",
         3,
         4,
         1,
         1,
         "2023-08-11",
         "9999-12-31T00:00:00.000+0000"
        ]
       ],
       "datasetInfos": [],
       "dbfsResultPath": null,
       "isJsonSchema": true,
       "metadata": {},
       "overflow": false,
       "plotOptions": {
        "customPlotOptions": {},
        "displayType": "table",
        "pivotAggregation": null,
        "pivotColumns": null,
        "xColumns": null,
        "yColumns": null
       },
       "removedWidgets": [],
       "schema": [
        {
         "metadata": "{}",
         "name": "id",
         "type": "\"string\""
        },
        {
         "metadata": "{}",
         "name": "employee_id",
         "type": "\"integer\""
        },
        {
         "metadata": "{}",
         "name": "first_name",
         "type": "\"string\""
        },
        {
         "metadata": "{}",
         "name": "last_name",
         "type": "\"string\""
        },
        {
         "metadata": "{}",
         "name": "email",
         "type": "\"string\""
        },
        {
         "metadata": "{}",
         "name": "city",
         "type": "\"string\""
        },
        {
         "metadata": "{}",
         "name": "region",
         "type": "\"string\""
        },
        {
         "metadata": "{}",
         "name": "street_address",
         "type": "\"string\""
        },
        {
         "metadata": "{}",
         "name": "country",
         "type": "\"string\""
        },
        {
         "metadata": "{}",
         "name": "salary",
         "type": "\"integer\""
        },
        {
         "metadata": "{}",
         "name": "is_fte",
         "type": "\"boolean\""
        },
        {
         "metadata": "{}",
         "name": "is_remote",
         "type": "\"boolean\""
        },
        {
         "metadata": "{}",
         "name": "employment_date",
         "type": "\"date\""
        },
        {
         "metadata": "{}",
         "name": "employee_create_update_date",
         "type": "\"date\""
        },
        {
         "metadata": "{}",
         "name": "address_create_update_date",
         "type": "\"date\""
        },
        {
         "metadata": "{}",
         "name": "info_create_update_date",
         "type": "\"date\""
        },
        {
         "metadata": "{}",
         "name": "address_commit_version",
         "type": "\"integer\""
        },
        {
         "metadata": "{}",
         "name": "info_commit_version",
         "type": "\"integer\""
        },
        {
         "metadata": "{}",
         "name": "employee_commit_version",
         "type": "\"integer\""
        },
        {
         "metadata": "{}",
         "name": "valid_flag",
         "type": "\"integer\""
        },
        {
         "metadata": "{}",
         "name": "valid_from",
         "type": "\"date\""
        },
        {
         "metadata": "{}",
         "name": "valid_to",
         "type": "\"timestamp\""
        }
       ],
       "type": "table"
      }
     },
     "output_type": "display_data"
    }
   ],
   "source": [
    "%sql\n",
    "select * from default.target_employee where EMPLOYEE_ID in (102,100,104,108, 500);"
   ]
  },
  {
   "cell_type": "markdown",
   "metadata": {
    "application/vnd.databricks.v1+cell": {
     "cellMetadata": {},
     "inputWidgets": {},
     "nuid": "ecda4452-1226-4dc7-9f3e-f2e644024c4b",
     "showTitle": false,
     "title": ""
    }
   },
   "source": [
    "#### Method 2: Historical chaining of records. We will capture all the updates that happens for a certain id and maintain the chain of history in those updates"
   ]
  },
  {
   "cell_type": "code",
   "execution_count": 0,
   "metadata": {
    "application/vnd.databricks.v1+cell": {
     "cellMetadata": {
      "byteLimit": 2048000,
      "implicitDf": true,
      "rowLimit": 10000
     },
     "inputWidgets": {},
     "nuid": "60156822-228c-4d09-ade0-4672e4ce49d4",
     "showTitle": false,
     "title": ""
    }
   },
   "outputs": [
    {
     "output_type": "display_data",
     "data": {
      "text/html": [
       "<style scoped>\n",
       "  .table-result-container {\n",
       "    max-height: 300px;\n",
       "    overflow: auto;\n",
       "  }\n",
       "  table, th, td {\n",
       "    border: 1px solid black;\n",
       "    border-collapse: collapse;\n",
       "  }\n",
       "  th, td {\n",
       "    padding: 5px;\n",
       "  }\n",
       "  th {\n",
       "    text-align: left;\n",
       "  }\n",
       "</style><div class='table-result-container'><table class='table-result'><thead style='background-color: white'><tr></tr></thead><tbody></tbody></table></div>"
      ]
     },
     "metadata": {
      "application/vnd.databricks.v1+output": {
       "addedWidgets": {},
       "aggData": [],
       "aggError": "",
       "aggOverflow": false,
       "aggSchema": [],
       "aggSeriesLimitReached": false,
       "aggType": "",
       "arguments": {},
       "columnCustomDisplayInfos": {},
       "data": [],
       "datasetInfos": [],
       "dbfsResultPath": null,
       "isJsonSchema": true,
       "metadata": {},
       "overflow": false,
       "plotOptions": {
        "customPlotOptions": {},
        "displayType": "table",
        "pivotAggregation": null,
        "pivotColumns": null,
        "xColumns": null,
        "yColumns": null
       },
       "removedWidgets": [],
       "schema": [],
       "type": "table"
      }
     },
     "output_type": "display_data"
    }
   ],
   "source": [
    "%sql\n",
    "-- tmp table\n",
    "create or replace temp view employee_chain as select \n",
    "  id,\n",
    "  employee_id,\n",
    "  first_name,\n",
    "  last_name,\n",
    "  email,\n",
    "  city,\n",
    "  region,\n",
    "  street_address,\n",
    "  country,\n",
    "  salary,\n",
    "  is_fte,\n",
    "  is_remote,\n",
    "  employment_date,\n",
    "  employee_create_update_date,\n",
    "  address_create_update_date,\n",
    "  info_create_update_date,\n",
    "  address_commit_version,\n",
    "  info_commit_version,\n",
    "  employee_commit_version,\n",
    "  valid_flag,\n",
    "  valid_from,\n",
    "  changed_commit,\n",
    "  lead(greatest(employee_create_update_date, address_create_update_date, info_create_update_date)) over (partition by employee_id order by employee_create_update_date) as valid_to,\n",
    "   ---take whatever greatest value of dates\n",
    "  row_number() over (partition by EMPLOYEE_ID order by employee_create_update_date) rn \n",
    "from changes_employee_target"
   ]
  },
  {
   "cell_type": "markdown",
   "metadata": {
    "application/vnd.databricks.v1+cell": {
     "cellMetadata": {},
     "inputWidgets": {},
     "nuid": "83b9fb43-4e93-4d9e-b71f-734b5a3d463b",
     "showTitle": false,
     "title": ""
    }
   },
   "source": [
    "##### The LEAD function takes the next start date for the same natural key, ordered by date (dt). The ROW_NUMBER marks with 1 the oldest record in the source data for the natural key in the dimension."
   ]
  },
  {
   "cell_type": "code",
   "execution_count": 0,
   "metadata": {
    "application/vnd.databricks.v1+cell": {
     "cellMetadata": {
      "byteLimit": 2048000,
      "implicitDf": true,
      "rowLimit": 10000
     },
     "inputWidgets": {},
     "nuid": "b5ca4227-698f-4e2f-a3c9-2bd694cf3df2",
     "showTitle": false,
     "title": ""
    }
   },
   "outputs": [
    {
     "output_type": "display_data",
     "data": {
      "text/html": [
       "<style scoped>\n",
       "  .table-result-container {\n",
       "    max-height: 300px;\n",
       "    overflow: auto;\n",
       "  }\n",
       "  table, th, td {\n",
       "    border: 1px solid black;\n",
       "    border-collapse: collapse;\n",
       "  }\n",
       "  th, td {\n",
       "    padding: 5px;\n",
       "  }\n",
       "  th {\n",
       "    text-align: left;\n",
       "  }\n",
       "</style><div class='table-result-container'><table class='table-result'><thead style='background-color: white'><tr><th>id</th><th>employee_id</th><th>first_name</th><th>last_name</th><th>email</th><th>city</th><th>region</th><th>street_address</th><th>country</th><th>salary</th><th>is_fte</th><th>is_remote</th><th>employment_date</th><th>employee_create_update_date</th><th>address_create_update_date</th><th>info_create_update_date</th><th>address_commit_version</th><th>info_commit_version</th><th>employee_commit_version</th><th>valid_flag</th><th>valid_from</th><th>changed_commit</th><th>valid_to</th><th>rn</th></tr></thead><tbody><tr><td>014830e89472a8ac527a5c6b2c1e5fe5</td><td>100</td><td>Steven</td><td>King</td><td>steven.king@contoso.com</td><td>New York</td><td>NY</td><td>456 Baker Street</td><td>United States</td><td>null</td><td>null</td><td>null</td><td>null</td><td>2023-01-27</td><td>2023-07-13</td><td>null</td><td>4</td><td>null</td><td>null</td><td>1</td><td>2023-07-13T00:00:00.000+0000</td><td>4</td><td>2023-07-13</td><td>1</td></tr><tr><td>5e64f88f256b598f6c8a801b8d560285</td><td>100</td><td>Steven2</td><td>King</td><td>steven.king@contoso.com</td><td>New York</td><td>NY</td><td>456 Baker Street</td><td>United States</td><td>null</td><td>null</td><td>null</td><td>null</td><td>2023-07-13</td><td>2023-07-13</td><td>null</td><td>4</td><td>null</td><td>3</td><td>1</td><td>2023-07-13T00:00:00.000+0000</td><td>3</td><td>2023-07-17</td><td>2</td></tr><tr><td>08f663dec02e58679ba6e6af5cf67882</td><td>100</td><td>Steven3</td><td>King</td><td>steven.king@contoso.com</td><td>New York</td><td>NY</td><td>456 Baker Street</td><td>United States</td><td>null</td><td>null</td><td>null</td><td>null</td><td>2023-07-17</td><td>2023-07-13</td><td>null</td><td>4</td><td>null</td><td>4</td><td>1</td><td>2023-07-17T00:00:00.000+0000</td><td>4</td><td>null</td><td>3</td></tr><tr><td>be613e2a8166f377f65967bd9073188d</td><td>102</td><td>Lex</td><td>De Haan</td><td>lex.de-haan@contoso.com</td><td>Lille</td><td>ële-de-France</td><td>789 Rue de la Paix</td><td>France</td><td>8000</td><td>true</td><td>false</td><td>2021-03-22</td><td>2023-04-07</td><td>2023-07-15</td><td>2023-07-15</td><td>2</td><td>3</td><td>null</td><td>1</td><td>2023-07-15T00:00:00.000+0000</td><td>2</td><td>null</td><td>1</td></tr><tr><td>5a60257eabea5111d4e8aa0cf56fb109</td><td>103</td><td>Alexander</td><td>Hunold</td><td>alexander.hunold@contoso.com</td><td>null</td><td>null</td><td>null</td><td>null</td><td>7000</td><td>true</td><td>true</td><td>2018-11-30</td><td>2023-02-24</td><td>null</td><td>2023-07-10</td><td>null</td><td>2</td><td>null</td><td>1</td><td>2023-07-10T00:00:00.000+0000</td><td>2</td><td>null</td><td>1</td></tr><tr><td>3b2c89840dc66c48dedbbb8ecac15ada</td><td>104</td><td>Bruce</td><td>Ernst</td><td>bruce.ernst@contoso.com</td><td>NewCastle</td><td>NSW</td><td>456 George St</td><td>Australia</td><td>5800</td><td>false</td><td>false</td><td>2017-09-12</td><td>2023-04-24</td><td>2023-07-14</td><td>2023-07-14</td><td>3</td><td>4</td><td>null</td><td>1</td><td>2023-07-14T00:00:00.000+0000</td><td>3</td><td>null</td><td>1</td></tr><tr><td>523d25c653e123eafe592d1dc8792ca1</td><td>300</td><td>John</td><td>Doe</td><td>john.doe</td><td>null</td><td>null</td><td>null</td><td>null</td><td>null</td><td>null</td><td>null</td><td>null</td><td>2023-04-04</td><td>null</td><td>null</td><td>null</td><td>null</td><td>2</td><td>1</td><td>2023-04-04T00:00:00.000+0000</td><td>2</td><td>null</td><td>1</td></tr></tbody></table></div>"
      ]
     },
     "metadata": {
      "application/vnd.databricks.v1+output": {
       "addedWidgets": {},
       "aggData": [],
       "aggError": "",
       "aggOverflow": false,
       "aggSchema": [],
       "aggSeriesLimitReached": false,
       "aggType": "",
       "arguments": {},
       "columnCustomDisplayInfos": {},
       "data": [
        [
         "014830e89472a8ac527a5c6b2c1e5fe5",
         100,
         "Steven",
         "King",
         "steven.king@contoso.com",
         "New York",
         "NY",
         "456 Baker Street",
         "United States",
         null,
         null,
         null,
         null,
         "2023-01-27",
         "2023-07-13",
         null,
         4,
         null,
         null,
         1,
         "2023-07-13T00:00:00.000+0000",
         4,
         "2023-07-13",
         1
        ],
        [
         "5e64f88f256b598f6c8a801b8d560285",
         100,
         "Steven2",
         "King",
         "steven.king@contoso.com",
         "New York",
         "NY",
         "456 Baker Street",
         "United States",
         null,
         null,
         null,
         null,
         "2023-07-13",
         "2023-07-13",
         null,
         4,
         null,
         "3",
         1,
         "2023-07-13T00:00:00.000+0000",
         3,
         "2023-07-17",
         2
        ],
        [
         "08f663dec02e58679ba6e6af5cf67882",
         100,
         "Steven3",
         "King",
         "steven.king@contoso.com",
         "New York",
         "NY",
         "456 Baker Street",
         "United States",
         null,
         null,
         null,
         null,
         "2023-07-17",
         "2023-07-13",
         null,
         4,
         null,
         "4",
         1,
         "2023-07-17T00:00:00.000+0000",
         4,
         null,
         3
        ],
        [
         "be613e2a8166f377f65967bd9073188d",
         102,
         "Lex",
         "De Haan",
         "lex.de-haan@contoso.com",
         "Lille",
         "ële-de-France",
         "789 Rue de la Paix",
         "France",
         8000,
         true,
         false,
         "2021-03-22",
         "2023-04-07",
         "2023-07-15",
         "2023-07-15",
         2,
         3,
         null,
         1,
         "2023-07-15T00:00:00.000+0000",
         2,
         null,
         1
        ],
        [
         "5a60257eabea5111d4e8aa0cf56fb109",
         103,
         "Alexander",
         "Hunold",
         "alexander.hunold@contoso.com",
         null,
         null,
         null,
         null,
         7000,
         true,
         true,
         "2018-11-30",
         "2023-02-24",
         null,
         "2023-07-10",
         null,
         2,
         null,
         1,
         "2023-07-10T00:00:00.000+0000",
         2,
         null,
         1
        ],
        [
         "3b2c89840dc66c48dedbbb8ecac15ada",
         104,
         "Bruce",
         "Ernst",
         "bruce.ernst@contoso.com",
         "NewCastle",
         "NSW",
         "456 George St",
         "Australia",
         5800,
         false,
         false,
         "2017-09-12",
         "2023-04-24",
         "2023-07-14",
         "2023-07-14",
         3,
         4,
         null,
         1,
         "2023-07-14T00:00:00.000+0000",
         3,
         null,
         1
        ],
        [
         "523d25c653e123eafe592d1dc8792ca1",
         300,
         "John",
         "Doe",
         "john.doe",
         null,
         null,
         null,
         null,
         null,
         null,
         null,
         null,
         "2023-04-04",
         null,
         null,
         null,
         null,
         "2",
         1,
         "2023-04-04T00:00:00.000+0000",
         2,
         null,
         1
        ]
       ],
       "datasetInfos": [],
       "dbfsResultPath": null,
       "isJsonSchema": true,
       "metadata": {},
       "overflow": false,
       "plotOptions": {
        "customPlotOptions": {},
        "displayType": "table",
        "pivotAggregation": null,
        "pivotColumns": null,
        "xColumns": null,
        "yColumns": null
       },
       "removedWidgets": [],
       "schema": [
        {
         "metadata": "{}",
         "name": "id",
         "type": "\"string\""
        },
        {
         "metadata": "{}",
         "name": "employee_id",
         "type": "\"integer\""
        },
        {
         "metadata": "{}",
         "name": "first_name",
         "type": "\"string\""
        },
        {
         "metadata": "{}",
         "name": "last_name",
         "type": "\"string\""
        },
        {
         "metadata": "{}",
         "name": "email",
         "type": "\"string\""
        },
        {
         "metadata": "{}",
         "name": "city",
         "type": "\"string\""
        },
        {
         "metadata": "{}",
         "name": "region",
         "type": "\"string\""
        },
        {
         "metadata": "{}",
         "name": "street_address",
         "type": "\"string\""
        },
        {
         "metadata": "{}",
         "name": "country",
         "type": "\"string\""
        },
        {
         "metadata": "{}",
         "name": "salary",
         "type": "\"integer\""
        },
        {
         "metadata": "{}",
         "name": "is_fte",
         "type": "\"boolean\""
        },
        {
         "metadata": "{}",
         "name": "is_remote",
         "type": "\"boolean\""
        },
        {
         "metadata": "{}",
         "name": "employment_date",
         "type": "\"date\""
        },
        {
         "metadata": "{}",
         "name": "employee_create_update_date",
         "type": "\"date\""
        },
        {
         "metadata": "{}",
         "name": "address_create_update_date",
         "type": "\"date\""
        },
        {
         "metadata": "{}",
         "name": "info_create_update_date",
         "type": "\"date\""
        },
        {
         "metadata": "{}",
         "name": "address_commit_version",
         "type": "\"long\""
        },
        {
         "metadata": "{}",
         "name": "info_commit_version",
         "type": "\"long\""
        },
        {
         "metadata": "{}",
         "name": "employee_commit_version",
         "type": "\"string\""
        },
        {
         "metadata": "{}",
         "name": "valid_flag",
         "type": "\"integer\""
        },
        {
         "metadata": "{}",
         "name": "valid_from",
         "type": "\"timestamp\""
        },
        {
         "metadata": "{}",
         "name": "changed_commit",
         "type": "\"long\""
        },
        {
         "metadata": "{}",
         "name": "valid_to",
         "type": "\"date\""
        },
        {
         "metadata": "{}",
         "name": "rn",
         "type": "\"integer\""
        }
       ],
       "type": "table"
      }
     },
     "output_type": "display_data"
    }
   ],
   "source": [
    "%sql\n",
    "select * from employee_chain;"
   ]
  },
  {
   "cell_type": "markdown",
   "metadata": {
    "application/vnd.databricks.v1+cell": {
     "cellMetadata": {},
     "inputWidgets": {},
     "nuid": "4336f22d-131e-4176-b812-89fbefef95c5",
     "showTitle": false,
     "title": ""
    }
   },
   "source": [
    "#### Method 2: Coalesce with target employee table to capture columns which haven't changed"
   ]
  },
  {
   "cell_type": "markdown",
   "metadata": {
    "application/vnd.databricks.v1+cell": {
     "cellMetadata": {},
     "inputWidgets": {},
     "nuid": "40763b18-c57a-40d7-ae6a-04ae15965425",
     "showTitle": false,
     "title": ""
    }
   },
   "source": [
    "#### Method 2 : For the sake of illustration we use only one id to show historical chaining of updates is captured\n",
    "- Target table --> `default`.target_employee_historical"
   ]
  },
  {
   "cell_type": "code",
   "execution_count": 0,
   "metadata": {
    "application/vnd.databricks.v1+cell": {
     "cellMetadata": {
      "byteLimit": 2048000,
      "rowLimit": 10000
     },
     "inputWidgets": {},
     "nuid": "5001219a-6ea8-47f6-80a4-e5179adab3f2",
     "showTitle": false,
     "title": ""
    }
   },
   "outputs": [
    {
     "output_type": "display_data",
     "data": {
      "text/html": [
       "<style scoped>\n",
       "  .table-result-container {\n",
       "    max-height: 300px;\n",
       "    overflow: auto;\n",
       "  }\n",
       "  table, th, td {\n",
       "    border: 1px solid black;\n",
       "    border-collapse: collapse;\n",
       "  }\n",
       "  th, td {\n",
       "    padding: 5px;\n",
       "  }\n",
       "  th {\n",
       "    text-align: left;\n",
       "  }\n",
       "</style><div class='table-result-container'><table class='table-result'><thead style='background-color: white'><tr><th>id</th><th>EMPLOYEE_ID</th><th>FIRST_NAME</th><th>LAST_NAME</th><th>EMAIL</th><th>CITY</th><th>REGION</th><th>STREET_ADDRESS</th><th>COUNTRY</th><th>SALARY</th><th>IS_FTE</th><th>IS_REMOTE</th><th>EMPLOYMENT_DATE</th><th>employee_create_update_date</th><th>address_create_update_date</th><th>info_create_update_date</th><th>address_commit_version</th><th>info_commit_version</th><th>employee_commit_version</th><th>valid_flag</th><th>valid_from</th><th>valid_to</th><th>_commit_version</th><th>rn</th></tr></thead><tbody><tr><td>014830e89472a8ac527a5c6b2c1e5fe5</td><td>100</td><td>Steven</td><td>King</td><td>steven.king@contoso.com</td><td>New York</td><td>NY</td><td>456 Baker Street</td><td>United States</td><td>5000</td><td>true</td><td>false</td><td>2020-01-15</td><td>2023-01-27</td><td>2023-07-13</td><td>2023-01-27</td><td>4</td><td>1</td><td>1</td><td>1</td><td>2023-07-13T00:00:00.000+0000</td><td>2023-07-13</td><td>4</td><td>1</td></tr><tr><td>5e64f88f256b598f6c8a801b8d560285</td><td>100</td><td>Steven2</td><td>King</td><td>steven.king@contoso.com</td><td>New York</td><td>NY</td><td>456 Baker Street</td><td>United States</td><td>5000</td><td>true</td><td>false</td><td>2020-01-15</td><td>2023-07-13</td><td>2023-07-13</td><td>2023-01-27</td><td>4</td><td>1</td><td>3</td><td>1</td><td>2023-07-13T00:00:00.000+0000</td><td>2023-07-17</td><td>3</td><td>2</td></tr><tr><td>08f663dec02e58679ba6e6af5cf67882</td><td>100</td><td>Steven3</td><td>King</td><td>steven.king@contoso.com</td><td>New York</td><td>NY</td><td>456 Baker Street</td><td>United States</td><td>5000</td><td>true</td><td>false</td><td>2020-01-15</td><td>2023-07-17</td><td>2023-07-13</td><td>2023-01-27</td><td>4</td><td>1</td><td>4</td><td>1</td><td>2023-07-17T00:00:00.000+0000</td><td>null</td><td>4</td><td>3</td></tr></tbody></table></div>"
      ]
     },
     "metadata": {
      "application/vnd.databricks.v1+output": {
       "addedWidgets": {},
       "aggData": [],
       "aggError": "",
       "aggOverflow": false,
       "aggSchema": [],
       "aggSeriesLimitReached": false,
       "aggType": "",
       "arguments": {},
       "columnCustomDisplayInfos": {},
       "data": [
        [
         "014830e89472a8ac527a5c6b2c1e5fe5",
         100,
         "Steven",
         "King",
         "steven.king@contoso.com",
         "New York",
         "NY",
         "456 Baker Street",
         "United States",
         5000,
         true,
         false,
         "2020-01-15",
         "2023-01-27",
         "2023-07-13",
         "2023-01-27",
         4,
         1,
         "1",
         1,
         "2023-07-13T00:00:00.000+0000",
         "2023-07-13",
         4,
         1
        ],
        [
         "5e64f88f256b598f6c8a801b8d560285",
         100,
         "Steven2",
         "King",
         "steven.king@contoso.com",
         "New York",
         "NY",
         "456 Baker Street",
         "United States",
         5000,
         true,
         false,
         "2020-01-15",
         "2023-07-13",
         "2023-07-13",
         "2023-01-27",
         4,
         1,
         "3",
         1,
         "2023-07-13T00:00:00.000+0000",
         "2023-07-17",
         3,
         2
        ],
        [
         "08f663dec02e58679ba6e6af5cf67882",
         100,
         "Steven3",
         "King",
         "steven.king@contoso.com",
         "New York",
         "NY",
         "456 Baker Street",
         "United States",
         5000,
         true,
         false,
         "2020-01-15",
         "2023-07-17",
         "2023-07-13",
         "2023-01-27",
         4,
         1,
         "4",
         1,
         "2023-07-17T00:00:00.000+0000",
         null,
         4,
         3
        ]
       ],
       "datasetInfos": [],
       "dbfsResultPath": null,
       "isJsonSchema": true,
       "metadata": {},
       "overflow": false,
       "plotOptions": {
        "customPlotOptions": {},
        "displayType": "table",
        "pivotAggregation": null,
        "pivotColumns": null,
        "xColumns": null,
        "yColumns": null
       },
       "removedWidgets": [],
       "schema": [
        {
         "metadata": "{}",
         "name": "id",
         "type": "\"string\""
        },
        {
         "metadata": "{}",
         "name": "EMPLOYEE_ID",
         "type": "\"integer\""
        },
        {
         "metadata": "{}",
         "name": "FIRST_NAME",
         "type": "\"string\""
        },
        {
         "metadata": "{}",
         "name": "LAST_NAME",
         "type": "\"string\""
        },
        {
         "metadata": "{}",
         "name": "EMAIL",
         "type": "\"string\""
        },
        {
         "metadata": "{}",
         "name": "CITY",
         "type": "\"string\""
        },
        {
         "metadata": "{}",
         "name": "REGION",
         "type": "\"string\""
        },
        {
         "metadata": "{}",
         "name": "STREET_ADDRESS",
         "type": "\"string\""
        },
        {
         "metadata": "{}",
         "name": "COUNTRY",
         "type": "\"string\""
        },
        {
         "metadata": "{}",
         "name": "SALARY",
         "type": "\"integer\""
        },
        {
         "metadata": "{}",
         "name": "IS_FTE",
         "type": "\"boolean\""
        },
        {
         "metadata": "{}",
         "name": "IS_REMOTE",
         "type": "\"boolean\""
        },
        {
         "metadata": "{}",
         "name": "EMPLOYMENT_DATE",
         "type": "\"date\""
        },
        {
         "metadata": "{}",
         "name": "employee_create_update_date",
         "type": "\"date\""
        },
        {
         "metadata": "{}",
         "name": "address_create_update_date",
         "type": "\"date\""
        },
        {
         "metadata": "{}",
         "name": "info_create_update_date",
         "type": "\"date\""
        },
        {
         "metadata": "{}",
         "name": "address_commit_version",
         "type": "\"long\""
        },
        {
         "metadata": "{}",
         "name": "info_commit_version",
         "type": "\"long\""
        },
        {
         "metadata": "{}",
         "name": "employee_commit_version",
         "type": "\"string\""
        },
        {
         "metadata": "{}",
         "name": "valid_flag",
         "type": "\"integer\""
        },
        {
         "metadata": "{}",
         "name": "valid_from",
         "type": "\"timestamp\""
        },
        {
         "metadata": "{}",
         "name": "valid_to",
         "type": "\"date\""
        },
        {
         "metadata": "{}",
         "name": "_commit_version",
         "type": "\"long\""
        },
        {
         "metadata": "{}",
         "name": "rn",
         "type": "\"integer\""
        }
       ],
       "type": "table"
      }
     },
     "output_type": "display_data"
    }
   ],
   "source": [
    "changes_df =spark.sql(\"\"\"\n",
    "                      select \n",
    "                        coalesce(md5(concat(employee_latest_updates.EMPLOYEE_ID,employee_latest_updates.FIRST_NAME,employee_latest_updates.LAST_NAME,employee_latest_updates.EMAIL, employee_latest_updates.employee_create_update_date)),target_employee.id) as id,\n",
    "                        coalesce(employee_latest_updates.EMPLOYEE_ID, target_employee.EMPLOYEE_ID) as EMPLOYEE_ID,\n",
    "                        coalesce(employee_latest_updates.FIRST_NAME,target_employee.FIRST_NAME) as FIRST_NAME,\n",
    "                        coalesce(employee_latest_updates.LAST_NAME, target_employee.LAST_NAME) as LAST_NAME,\n",
    "                        coalesce(employee_latest_updates.EMAIL, target_employee.EMAIL) as EMAIL,\n",
    "                        coalesce(employee_latest_updates.CITY, target_employee.CITY) as CITY,\n",
    "                        coalesce(employee_latest_updates.REGION, target_employee.REGION) as REGION,\n",
    "                        coalesce(employee_latest_updates.STREET_ADDRESS, target_employee.STREET_ADDRESS) as STREET_ADDRESS,\n",
    "                        coalesce(employee_latest_updates.COUNTRY, target_employee.COUNTRY) as COUNTRY,\n",
    "                        coalesce(employee_latest_updates.SALARY, target_employee.SALARY) as SALARY,\n",
    "                        coalesce(employee_latest_updates.IS_FTE, target_employee.IS_FTE) as IS_FTE,\n",
    "                        coalesce(employee_latest_updates.IS_REMOTE, target_employee.IS_REMOTE) as IS_REMOTE,\n",
    "                        coalesce(employee_latest_updates.EMPLOYMENT_DATE, target_employee.EMPLOYMENT_DATE) as EMPLOYMENT_DATE,\n",
    "\n",
    "                        coalesce(employee_latest_updates.employee_create_update_date, target_employee.employee_create_update_date) as employee_create_update_date,\n",
    "                        coalesce(employee_latest_updates.address_create_update_date, target_employee.address_create_update_date) as address_create_update_date,\n",
    "                        coalesce(employee_latest_updates.info_create_update_date, target_employee.info_create_update_date) as info_create_update_date,\n",
    "\n",
    "                        coalesce(employee_latest_updates.address_commit_version, target_employee.address_commit_version) as address_commit_version,\n",
    "                        coalesce(employee_latest_updates.info_commit_version, target_employee.info_commit_version) as info_commit_version,\n",
    "                        coalesce(employee_latest_updates.employee_commit_version, target_employee.employee_commit_version) as employee_commit_version,\n",
    "                        employee_latest_updates.valid_flag,\n",
    "                        employee_latest_updates.valid_from,\n",
    "                        employee_latest_updates.valid_to,\n",
    "                        employee_latest_updates.changed_commit as _commit_version,\n",
    "                        employee_latest_updates.rn\n",
    "                        from employee_chain  employee_latest_updates\n",
    "                        ---we use left join to consider new inserts as well\n",
    "                        left join `default`.target_employee_historical  target_employee on employee_latest_updates.employee_id=target_employee.employee_id\n",
    "                      \"\"\")\n",
    "\n",
    "## For the sake of illustration we use only one id to show historical chaining of updates is captured\n",
    "changes_df = changes_df.filter(col(\"EMPLOYEE_ID\")== '100')\n",
    "changes_df.createOrReplaceTempView(\"changes\")\n",
    "\n",
    "##store the changes in a separate table\n",
    "changes_df.write.format(\"delta\").mode(\"overwrite\").saveAsTable(\"changes_history\")\n",
    "display(changes_df)"
   ]
  },
  {
   "cell_type": "markdown",
   "metadata": {
    "application/vnd.databricks.v1+cell": {
     "cellMetadata": {},
     "inputWidgets": {},
     "nuid": "14b4efb1-817c-44d1-9f03-974d0e3bc495",
     "showTitle": false,
     "title": ""
    }
   },
   "source": [
    "#### Method 2 : update valid_flag=1 for highest rank/latest record"
   ]
  },
  {
   "cell_type": "code",
   "execution_count": 0,
   "metadata": {
    "application/vnd.databricks.v1+cell": {
     "cellMetadata": {
      "byteLimit": 2048000,
      "implicitDf": true,
      "rowLimit": 10000
     },
     "inputWidgets": {},
     "nuid": "738a547d-8f2f-4f7f-830e-c5efd9974bc0",
     "showTitle": false,
     "title": ""
    }
   },
   "outputs": [
    {
     "output_type": "display_data",
     "data": {
      "text/html": [
       "<style scoped>\n",
       "  .table-result-container {\n",
       "    max-height: 300px;\n",
       "    overflow: auto;\n",
       "  }\n",
       "  table, th, td {\n",
       "    border: 1px solid black;\n",
       "    border-collapse: collapse;\n",
       "  }\n",
       "  th, td {\n",
       "    padding: 5px;\n",
       "  }\n",
       "  th {\n",
       "    text-align: left;\n",
       "  }\n",
       "</style><div class='table-result-container'><table class='table-result'><thead style='background-color: white'><tr><th>num_affected_rows</th></tr></thead><tbody><tr><td>3</td></tr></tbody></table></div>"
      ]
     },
     "metadata": {
      "application/vnd.databricks.v1+output": {
       "addedWidgets": {},
       "aggData": [],
       "aggError": "",
       "aggOverflow": false,
       "aggSchema": [],
       "aggSeriesLimitReached": false,
       "aggType": "",
       "arguments": {},
       "columnCustomDisplayInfos": {},
       "data": [
        [
         3
        ]
       ],
       "datasetInfos": [],
       "dbfsResultPath": null,
       "isJsonSchema": true,
       "metadata": {},
       "overflow": false,
       "plotOptions": {
        "customPlotOptions": {},
        "displayType": "table",
        "pivotAggregation": null,
        "pivotColumns": null,
        "xColumns": null,
        "yColumns": null
       },
       "removedWidgets": [],
       "schema": [
        {
         "metadata": "{}",
         "name": "num_affected_rows",
         "type": "\"long\""
        }
       ],
       "type": "table"
      }
     },
     "output_type": "display_data"
    }
   ],
   "source": [
    "%sql\n",
    "UPDATE changes_history\n",
    "SET valid_flag = CASE WHEN rn = (SELECT MAX(rn) FROM changes_history) THEN 1 ELSE 0 END;\n"
   ]
  },
  {
   "cell_type": "markdown",
   "metadata": {
    "application/vnd.databricks.v1+cell": {
     "cellMetadata": {},
     "inputWidgets": {},
     "nuid": "a0b18824-4af9-41f7-af0c-77d445b35784",
     "showTitle": false,
     "title": ""
    }
   },
   "source": [
    "#### Method 2 : update valid_to= \"infinite end date\" for highest rank/latest record"
   ]
  },
  {
   "cell_type": "code",
   "execution_count": 0,
   "metadata": {
    "application/vnd.databricks.v1+cell": {
     "cellMetadata": {
      "byteLimit": 2048000,
      "implicitDf": true,
      "rowLimit": 10000
     },
     "inputWidgets": {},
     "nuid": "54e513f5-5cf9-427a-9fd3-9cf03f1c0e64",
     "showTitle": false,
     "title": ""
    }
   },
   "outputs": [
    {
     "output_type": "display_data",
     "data": {
      "text/html": [
       "<style scoped>\n",
       "  .table-result-container {\n",
       "    max-height: 300px;\n",
       "    overflow: auto;\n",
       "  }\n",
       "  table, th, td {\n",
       "    border: 1px solid black;\n",
       "    border-collapse: collapse;\n",
       "  }\n",
       "  th, td {\n",
       "    padding: 5px;\n",
       "  }\n",
       "  th {\n",
       "    text-align: left;\n",
       "  }\n",
       "</style><div class='table-result-container'><table class='table-result'><thead style='background-color: white'><tr><th>num_affected_rows</th></tr></thead><tbody><tr><td>3</td></tr></tbody></table></div>"
      ]
     },
     "metadata": {
      "application/vnd.databricks.v1+output": {
       "addedWidgets": {},
       "aggData": [],
       "aggError": "",
       "aggOverflow": false,
       "aggSchema": [],
       "aggSeriesLimitReached": false,
       "aggType": "",
       "arguments": {},
       "columnCustomDisplayInfos": {},
       "data": [
        [
         3
        ]
       ],
       "datasetInfos": [],
       "dbfsResultPath": null,
       "isJsonSchema": true,
       "metadata": {},
       "overflow": false,
       "plotOptions": {
        "customPlotOptions": {},
        "displayType": "table",
        "pivotAggregation": null,
        "pivotColumns": null,
        "xColumns": null,
        "yColumns": null
       },
       "removedWidgets": [],
       "schema": [
        {
         "metadata": "{}",
         "name": "num_affected_rows",
         "type": "\"long\""
        }
       ],
       "type": "table"
      }
     },
     "output_type": "display_data"
    }
   ],
   "source": [
    "%sql\n",
    "UPDATE changes_history\n",
    "SET valid_to = CASE WHEN rn = (SELECT MAX(rn) FROM changes_history) THEN timestamp('9999-12-31') ELSE valid_to END;"
   ]
  },
  {
   "cell_type": "markdown",
   "metadata": {
    "application/vnd.databricks.v1+cell": {
     "cellMetadata": {},
     "inputWidgets": {},
     "nuid": "eea1123f-c282-41c1-8f70-c0379c8b8981",
     "showTitle": false,
     "title": ""
    }
   },
   "source": [
    "#### Method 2: In case of historical chaining, the weightage of driving table rules over changes that come from referential table"
   ]
  },
  {
   "cell_type": "code",
   "execution_count": 0,
   "metadata": {
    "application/vnd.databricks.v1+cell": {
     "cellMetadata": {
      "byteLimit": 2048000,
      "implicitDf": true,
      "rowLimit": 10000
     },
     "inputWidgets": {},
     "nuid": "66bb521e-ef79-4d78-9f78-1eea36a0a218",
     "showTitle": false,
     "title": ""
    }
   },
   "outputs": [
    {
     "output_type": "display_data",
     "data": {
      "text/html": [
       "<style scoped>\n",
       "  .table-result-container {\n",
       "    max-height: 300px;\n",
       "    overflow: auto;\n",
       "  }\n",
       "  table, th, td {\n",
       "    border: 1px solid black;\n",
       "    border-collapse: collapse;\n",
       "  }\n",
       "  th, td {\n",
       "    padding: 5px;\n",
       "  }\n",
       "  th {\n",
       "    text-align: left;\n",
       "  }\n",
       "</style><div class='table-result-container'><table class='table-result'><thead style='background-color: white'><tr><th>id</th><th>EMPLOYEE_ID</th><th>FIRST_NAME</th><th>LAST_NAME</th><th>EMAIL</th><th>CITY</th><th>REGION</th><th>STREET_ADDRESS</th><th>COUNTRY</th><th>SALARY</th><th>IS_FTE</th><th>IS_REMOTE</th><th>EMPLOYMENT_DATE</th><th>employee_create_update_date</th><th>address_create_update_date</th><th>info_create_update_date</th><th>address_commit_version</th><th>info_commit_version</th><th>employee_commit_version</th><th>valid_flag</th><th>valid_from</th><th>valid_to</th><th>_commit_version</th><th>rn</th></tr></thead><tbody><tr><td>014830e89472a8ac527a5c6b2c1e5fe5</td><td>100</td><td>Steven</td><td>King</td><td>steven.king@contoso.com</td><td>New York</td><td>NY</td><td>456 Baker Street</td><td>United States</td><td>5000</td><td>true</td><td>false</td><td>2020-01-15</td><td>2023-01-27</td><td>2023-07-13</td><td>2023-01-27</td><td>4</td><td>1</td><td>1</td><td>0</td><td>2023-07-13T00:00:00.000+0000</td><td>2023-07-13</td><td>4</td><td>1</td></tr><tr><td>5e64f88f256b598f6c8a801b8d560285</td><td>100</td><td>Steven2</td><td>King</td><td>steven.king@contoso.com</td><td>New York</td><td>NY</td><td>456 Baker Street</td><td>United States</td><td>5000</td><td>true</td><td>false</td><td>2020-01-15</td><td>2023-07-13</td><td>2023-07-13</td><td>2023-01-27</td><td>4</td><td>1</td><td>3</td><td>0</td><td>2023-07-13T00:00:00.000+0000</td><td>2023-07-17</td><td>3</td><td>2</td></tr><tr><td>08f663dec02e58679ba6e6af5cf67882</td><td>100</td><td>Steven3</td><td>King</td><td>steven.king@contoso.com</td><td>New York</td><td>NY</td><td>456 Baker Street</td><td>United States</td><td>5000</td><td>true</td><td>false</td><td>2020-01-15</td><td>2023-07-17</td><td>2023-07-13</td><td>2023-01-27</td><td>4</td><td>1</td><td>4</td><td>1</td><td>2023-07-17T00:00:00.000+0000</td><td>9999-12-31</td><td>4</td><td>3</td></tr></tbody></table></div>"
      ]
     },
     "metadata": {
      "application/vnd.databricks.v1+output": {
       "addedWidgets": {},
       "aggData": [],
       "aggError": "",
       "aggOverflow": false,
       "aggSchema": [],
       "aggSeriesLimitReached": false,
       "aggType": "",
       "arguments": {},
       "columnCustomDisplayInfos": {},
       "data": [
        [
         "014830e89472a8ac527a5c6b2c1e5fe5",
         100,
         "Steven",
         "King",
         "steven.king@contoso.com",
         "New York",
         "NY",
         "456 Baker Street",
         "United States",
         5000,
         true,
         false,
         "2020-01-15",
         "2023-01-27",
         "2023-07-13",
         "2023-01-27",
         4,
         1,
         "1",
         0,
         "2023-07-13T00:00:00.000+0000",
         "2023-07-13",
         4,
         1
        ],
        [
         "5e64f88f256b598f6c8a801b8d560285",
         100,
         "Steven2",
         "King",
         "steven.king@contoso.com",
         "New York",
         "NY",
         "456 Baker Street",
         "United States",
         5000,
         true,
         false,
         "2020-01-15",
         "2023-07-13",
         "2023-07-13",
         "2023-01-27",
         4,
         1,
         "3",
         0,
         "2023-07-13T00:00:00.000+0000",
         "2023-07-17",
         3,
         2
        ],
        [
         "08f663dec02e58679ba6e6af5cf67882",
         100,
         "Steven3",
         "King",
         "steven.king@contoso.com",
         "New York",
         "NY",
         "456 Baker Street",
         "United States",
         5000,
         true,
         false,
         "2020-01-15",
         "2023-07-17",
         "2023-07-13",
         "2023-01-27",
         4,
         1,
         "4",
         1,
         "2023-07-17T00:00:00.000+0000",
         "9999-12-31",
         4,
         3
        ]
       ],
       "datasetInfos": [],
       "dbfsResultPath": null,
       "isJsonSchema": true,
       "metadata": {},
       "overflow": false,
       "plotOptions": {
        "customPlotOptions": {},
        "displayType": "table",
        "pivotAggregation": null,
        "pivotColumns": null,
        "xColumns": null,
        "yColumns": null
       },
       "removedWidgets": [],
       "schema": [
        {
         "metadata": "{}",
         "name": "id",
         "type": "\"string\""
        },
        {
         "metadata": "{}",
         "name": "EMPLOYEE_ID",
         "type": "\"integer\""
        },
        {
         "metadata": "{}",
         "name": "FIRST_NAME",
         "type": "\"string\""
        },
        {
         "metadata": "{}",
         "name": "LAST_NAME",
         "type": "\"string\""
        },
        {
         "metadata": "{}",
         "name": "EMAIL",
         "type": "\"string\""
        },
        {
         "metadata": "{}",
         "name": "CITY",
         "type": "\"string\""
        },
        {
         "metadata": "{}",
         "name": "REGION",
         "type": "\"string\""
        },
        {
         "metadata": "{}",
         "name": "STREET_ADDRESS",
         "type": "\"string\""
        },
        {
         "metadata": "{}",
         "name": "COUNTRY",
         "type": "\"string\""
        },
        {
         "metadata": "{}",
         "name": "SALARY",
         "type": "\"integer\""
        },
        {
         "metadata": "{}",
         "name": "IS_FTE",
         "type": "\"boolean\""
        },
        {
         "metadata": "{}",
         "name": "IS_REMOTE",
         "type": "\"boolean\""
        },
        {
         "metadata": "{}",
         "name": "EMPLOYMENT_DATE",
         "type": "\"date\""
        },
        {
         "metadata": "{}",
         "name": "employee_create_update_date",
         "type": "\"date\""
        },
        {
         "metadata": "{}",
         "name": "address_create_update_date",
         "type": "\"date\""
        },
        {
         "metadata": "{}",
         "name": "info_create_update_date",
         "type": "\"date\""
        },
        {
         "metadata": "{}",
         "name": "address_commit_version",
         "type": "\"long\""
        },
        {
         "metadata": "{}",
         "name": "info_commit_version",
         "type": "\"long\""
        },
        {
         "metadata": "{}",
         "name": "employee_commit_version",
         "type": "\"string\""
        },
        {
         "metadata": "{}",
         "name": "valid_flag",
         "type": "\"integer\""
        },
        {
         "metadata": "{}",
         "name": "valid_from",
         "type": "\"timestamp\""
        },
        {
         "metadata": "{}",
         "name": "valid_to",
         "type": "\"date\""
        },
        {
         "metadata": "{}",
         "name": "_commit_version",
         "type": "\"long\""
        },
        {
         "metadata": "{}",
         "name": "rn",
         "type": "\"integer\""
        }
       ],
       "type": "table"
      }
     },
     "output_type": "display_data"
    }
   ],
   "source": [
    "%sql\n",
    "select * from changes_history;"
   ]
  },
  {
   "cell_type": "markdown",
   "metadata": {
    "application/vnd.databricks.v1+cell": {
     "cellMetadata": {},
     "inputWidgets": {},
     "nuid": "22c570bd-dee3-47df-b29a-73f83ead0752",
     "showTitle": false,
     "title": ""
    }
   },
   "source": [
    "#### Method 2: Proceed to close the \"current\" record in Target table using update"
   ]
  },
  {
   "cell_type": "code",
   "execution_count": 0,
   "metadata": {
    "application/vnd.databricks.v1+cell": {
     "cellMetadata": {
      "byteLimit": 2048000,
      "implicitDf": true,
      "rowLimit": 10000
     },
     "inputWidgets": {},
     "nuid": "28ed6cd0-cbd0-420e-a31b-47a8dbbf6243",
     "showTitle": false,
     "title": ""
    }
   },
   "outputs": [
    {
     "output_type": "display_data",
     "data": {
      "text/html": [
       "<style scoped>\n",
       "  .table-result-container {\n",
       "    max-height: 300px;\n",
       "    overflow: auto;\n",
       "  }\n",
       "  table, th, td {\n",
       "    border: 1px solid black;\n",
       "    border-collapse: collapse;\n",
       "  }\n",
       "  th, td {\n",
       "    padding: 5px;\n",
       "  }\n",
       "  th {\n",
       "    text-align: left;\n",
       "  }\n",
       "</style><div class='table-result-container'><table class='table-result'><thead style='background-color: white'><tr><th>num_affected_rows</th></tr></thead><tbody><tr><td>1</td></tr></tbody></table></div>"
      ]
     },
     "metadata": {
      "application/vnd.databricks.v1+output": {
       "addedWidgets": {},
       "aggData": [],
       "aggError": "",
       "aggOverflow": false,
       "aggSchema": [],
       "aggSeriesLimitReached": false,
       "aggType": "",
       "arguments": {},
       "columnCustomDisplayInfos": {},
       "data": [
        [
         1
        ]
       ],
       "datasetInfos": [],
       "dbfsResultPath": null,
       "isJsonSchema": true,
       "metadata": {},
       "overflow": false,
       "plotOptions": {
        "customPlotOptions": {},
        "displayType": "table",
        "pivotAggregation": null,
        "pivotColumns": null,
        "xColumns": null,
        "yColumns": null
       },
       "removedWidgets": [],
       "schema": [
        {
         "metadata": "{}",
         "name": "num_affected_rows",
         "type": "\"long\""
        }
       ],
       "type": "table"
      }
     },
     "output_type": "display_data"
    }
   ],
   "source": [
    "%sql\n",
    "UPDATE target_employee_historical AS t\n",
    "SET valid_to = (\n",
    "    SELECT first(valid_to) --- rn=1 stored in changes_history corresponds to original record in target table . Use the calculated valid_to to hence update original record\n",
    "    FROM changes_history AS c\n",
    "    WHERE c.employee_id = t.employee_id AND c.rn = 1\n",
    "),\n",
    "valid_flag = 0\n",
    "WHERE EMPLOYEE_ID IN (\n",
    "    SELECT employee_id\n",
    "    FROM changes_history\n",
    "    WHERE rn = 1\n",
    ") \n",
    "---latest records now become stale records\n",
    "and \n",
    "WHERE valid_flag = 1;;\n"
   ]
  },
  {
   "cell_type": "markdown",
   "metadata": {
    "application/vnd.databricks.v1+cell": {
     "cellMetadata": {},
     "inputWidgets": {},
     "nuid": "f03f61d4-ffac-41e9-b42d-12341015f927",
     "showTitle": false,
     "title": ""
    }
   },
   "source": [
    "#### Method 2: Add the new source data to the dimension with insert"
   ]
  },
  {
   "cell_type": "code",
   "execution_count": 0,
   "metadata": {
    "application/vnd.databricks.v1+cell": {
     "cellMetadata": {
      "byteLimit": 2048000,
      "implicitDf": true,
      "rowLimit": 10000
     },
     "inputWidgets": {},
     "nuid": "61319430-3a04-4bc4-a608-0b4ee656b336",
     "showTitle": false,
     "title": ""
    }
   },
   "outputs": [
    {
     "output_type": "display_data",
     "data": {
      "text/html": [
       "<style scoped>\n",
       "  .table-result-container {\n",
       "    max-height: 300px;\n",
       "    overflow: auto;\n",
       "  }\n",
       "  table, th, td {\n",
       "    border: 1px solid black;\n",
       "    border-collapse: collapse;\n",
       "  }\n",
       "  th, td {\n",
       "    padding: 5px;\n",
       "  }\n",
       "  th {\n",
       "    text-align: left;\n",
       "  }\n",
       "</style><div class='table-result-container'><table class='table-result'><thead style='background-color: white'><tr><th>num_affected_rows</th><th>num_inserted_rows</th></tr></thead><tbody><tr><td>2</td><td>2</td></tr></tbody></table></div>"
      ]
     },
     "metadata": {
      "application/vnd.databricks.v1+output": {
       "addedWidgets": {},
       "aggData": [],
       "aggError": "",
       "aggOverflow": false,
       "aggSchema": [],
       "aggSeriesLimitReached": false,
       "aggType": "",
       "arguments": {},
       "columnCustomDisplayInfos": {},
       "data": [
        [
         2,
         2
        ]
       ],
       "datasetInfos": [],
       "dbfsResultPath": null,
       "isJsonSchema": true,
       "metadata": {},
       "overflow": false,
       "plotOptions": {
        "customPlotOptions": {},
        "displayType": "table",
        "pivotAggregation": null,
        "pivotColumns": null,
        "xColumns": null,
        "yColumns": null
       },
       "removedWidgets": [],
       "schema": [
        {
         "metadata": "{}",
         "name": "num_affected_rows",
         "type": "\"long\""
        },
        {
         "metadata": "{}",
         "name": "num_inserted_rows",
         "type": "\"long\""
        }
       ],
       "type": "table"
      }
     },
     "output_type": "display_data"
    }
   ],
   "source": [
    "%sql\n",
    "insert into target_employee_historical\n",
    "select \n",
    "  id,\n",
    "  employee_id,\n",
    "  first_name,\n",
    "  last_name,\n",
    "  email,\n",
    "  city,\n",
    "  region,\n",
    "  street_address,\n",
    "  country,\n",
    "  salary,\n",
    "  is_fte,\n",
    "  IS_REMOTE,\n",
    "  employment_date,\n",
    "  employee_create_update_date,\n",
    "  address_create_update_date,\n",
    "  info_create_update_date,\n",
    "  address_commit_version,\n",
    "  info_commit_version,\n",
    "  employee_commit_version,\n",
    "  valid_flag,\n",
    "  valid_from,\n",
    "  valid_to\n",
    "from changes_history where rn > 1 ---for updates to a natural key"
   ]
  },
  {
   "cell_type": "markdown",
   "metadata": {
    "application/vnd.databricks.v1+cell": {
     "cellMetadata": {},
     "inputWidgets": {},
     "nuid": "0b3a612b-264f-49de-9575-934884ef4849",
     "showTitle": false,
     "title": ""
    }
   },
   "source": [
    "#### Method 2: Check updates"
   ]
  },
  {
   "cell_type": "code",
   "execution_count": 0,
   "metadata": {
    "application/vnd.databricks.v1+cell": {
     "cellMetadata": {
      "byteLimit": 2048000,
      "implicitDf": true,
      "rowLimit": 10000
     },
     "inputWidgets": {},
     "nuid": "373c75d3-9810-470e-a44c-a8d9894c8e14",
     "showTitle": false,
     "title": ""
    }
   },
   "outputs": [
    {
     "output_type": "display_data",
     "data": {
      "text/html": [
       "<style scoped>\n",
       "  .table-result-container {\n",
       "    max-height: 300px;\n",
       "    overflow: auto;\n",
       "  }\n",
       "  table, th, td {\n",
       "    border: 1px solid black;\n",
       "    border-collapse: collapse;\n",
       "  }\n",
       "  th, td {\n",
       "    padding: 5px;\n",
       "  }\n",
       "  th {\n",
       "    text-align: left;\n",
       "  }\n",
       "</style><div class='table-result-container'><table class='table-result'><thead style='background-color: white'><tr><th>id</th><th>employee_id</th><th>first_name</th><th>last_name</th><th>email</th><th>city</th><th>region</th><th>street_address</th><th>country</th><th>salary</th><th>is_fte</th><th>is_remote</th><th>employment_date</th><th>employee_create_update_date</th><th>address_create_update_date</th><th>info_create_update_date</th><th>address_commit_version</th><th>info_commit_version</th><th>employee_commit_version</th><th>valid_flag</th><th>valid_from</th><th>valid_to</th></tr></thead><tbody><tr><td>5e64f88f256b598f6c8a801b8d560285</td><td>100</td><td>Steven2</td><td>King</td><td>steven.king@contoso.com</td><td>New York</td><td>NY</td><td>456 Baker Street</td><td>United States</td><td>5000</td><td>true</td><td>false</td><td>2020-01-15</td><td>2023-07-13</td><td>2023-07-13</td><td>2023-01-27</td><td>4</td><td>1</td><td>3</td><td>0</td><td>2023-07-13</td><td>2023-07-17T00:00:00.000+0000</td></tr><tr><td>08f663dec02e58679ba6e6af5cf67882</td><td>100</td><td>Steven3</td><td>King</td><td>steven.king@contoso.com</td><td>New York</td><td>NY</td><td>456 Baker Street</td><td>United States</td><td>5000</td><td>true</td><td>false</td><td>2020-01-15</td><td>2023-07-17</td><td>2023-07-13</td><td>2023-01-27</td><td>4</td><td>1</td><td>4</td><td>1</td><td>2023-07-17</td><td>9999-12-31T00:00:00.000+0000</td></tr><tr><td>014830e89472a8ac527a5c6b2c1e5fe5</td><td>100</td><td>Steven</td><td>King</td><td>steven.king@contoso.com</td><td>New York</td><td>NY</td><td>123 Main St</td><td>United States</td><td>5000</td><td>true</td><td>false</td><td>2020-01-15</td><td>2023-01-27</td><td>2023-01-27</td><td>2023-01-27</td><td>1</td><td>1</td><td>1</td><td>0</td><td>2023-01-27</td><td>2023-07-13T00:00:00.000+0000</td></tr></tbody></table></div>"
      ]
     },
     "metadata": {
      "application/vnd.databricks.v1+output": {
       "addedWidgets": {},
       "aggData": [],
       "aggError": "",
       "aggOverflow": false,
       "aggSchema": [],
       "aggSeriesLimitReached": false,
       "aggType": "",
       "arguments": {},
       "columnCustomDisplayInfos": {},
       "data": [
        [
         "5e64f88f256b598f6c8a801b8d560285",
         100,
         "Steven2",
         "King",
         "steven.king@contoso.com",
         "New York",
         "NY",
         "456 Baker Street",
         "United States",
         5000,
         true,
         false,
         "2020-01-15",
         "2023-07-13",
         "2023-07-13",
         "2023-01-27",
         4,
         1,
         3,
         0,
         "2023-07-13",
         "2023-07-17T00:00:00.000+0000"
        ],
        [
         "08f663dec02e58679ba6e6af5cf67882",
         100,
         "Steven3",
         "King",
         "steven.king@contoso.com",
         "New York",
         "NY",
         "456 Baker Street",
         "United States",
         5000,
         true,
         false,
         "2020-01-15",
         "2023-07-17",
         "2023-07-13",
         "2023-01-27",
         4,
         1,
         4,
         1,
         "2023-07-17",
         "9999-12-31T00:00:00.000+0000"
        ],
        [
         "014830e89472a8ac527a5c6b2c1e5fe5",
         100,
         "Steven",
         "King",
         "steven.king@contoso.com",
         "New York",
         "NY",
         "123 Main St",
         "United States",
         5000,
         true,
         false,
         "2020-01-15",
         "2023-01-27",
         "2023-01-27",
         "2023-01-27",
         1,
         1,
         1,
         0,
         "2023-01-27",
         "2023-07-13T00:00:00.000+0000"
        ]
       ],
       "datasetInfos": [],
       "dbfsResultPath": null,
       "isJsonSchema": true,
       "metadata": {},
       "overflow": false,
       "plotOptions": {
        "customPlotOptions": {},
        "displayType": "table",
        "pivotAggregation": null,
        "pivotColumns": null,
        "xColumns": null,
        "yColumns": null
       },
       "removedWidgets": [],
       "schema": [
        {
         "metadata": "{}",
         "name": "id",
         "type": "\"string\""
        },
        {
         "metadata": "{}",
         "name": "employee_id",
         "type": "\"integer\""
        },
        {
         "metadata": "{}",
         "name": "first_name",
         "type": "\"string\""
        },
        {
         "metadata": "{}",
         "name": "last_name",
         "type": "\"string\""
        },
        {
         "metadata": "{}",
         "name": "email",
         "type": "\"string\""
        },
        {
         "metadata": "{}",
         "name": "city",
         "type": "\"string\""
        },
        {
         "metadata": "{}",
         "name": "region",
         "type": "\"string\""
        },
        {
         "metadata": "{}",
         "name": "street_address",
         "type": "\"string\""
        },
        {
         "metadata": "{}",
         "name": "country",
         "type": "\"string\""
        },
        {
         "metadata": "{}",
         "name": "salary",
         "type": "\"integer\""
        },
        {
         "metadata": "{}",
         "name": "is_fte",
         "type": "\"boolean\""
        },
        {
         "metadata": "{}",
         "name": "is_remote",
         "type": "\"boolean\""
        },
        {
         "metadata": "{}",
         "name": "employment_date",
         "type": "\"date\""
        },
        {
         "metadata": "{}",
         "name": "employee_create_update_date",
         "type": "\"date\""
        },
        {
         "metadata": "{}",
         "name": "address_create_update_date",
         "type": "\"date\""
        },
        {
         "metadata": "{}",
         "name": "info_create_update_date",
         "type": "\"date\""
        },
        {
         "metadata": "{}",
         "name": "address_commit_version",
         "type": "\"integer\""
        },
        {
         "metadata": "{}",
         "name": "info_commit_version",
         "type": "\"integer\""
        },
        {
         "metadata": "{}",
         "name": "employee_commit_version",
         "type": "\"integer\""
        },
        {
         "metadata": "{}",
         "name": "valid_flag",
         "type": "\"integer\""
        },
        {
         "metadata": "{}",
         "name": "valid_from",
         "type": "\"date\""
        },
        {
         "metadata": "{}",
         "name": "valid_to",
         "type": "\"timestamp\""
        }
       ],
       "type": "table"
      }
     },
     "output_type": "display_data"
    }
   ],
   "source": [
    "%sql\n",
    "select * from target_employee_historical where EMPLOYEE_ID in (100);"
   ]
  }
 ],
 "metadata": {
  "application/vnd.databricks.v1+notebook": {
   "dashboards": [],
   "language": "python",
   "notebookMetadata": {
    "mostRecentlyExecutedCommandWithImplicitDF": {
     "commandId": 3009297210204822,
     "dataframes": [
      "_sqldf"
     ]
    },
    "pythonIndentUnit": 4
   },
   "notebookName": "SCD_Driving_referential_Sample",
   "widgets": {}
  }
 },
 "nbformat": 4,
 "nbformat_minor": 0
}
